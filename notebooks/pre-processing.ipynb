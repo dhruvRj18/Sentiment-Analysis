{
 "cells": [
  {
   "cell_type": "code",
   "execution_count": 1,
   "id": "e3e878b1",
   "metadata": {},
   "outputs": [],
   "source": [
    "import nltk\n",
    "from nltk.tokenize import word_tokenize\n",
    "from nltk.corpus import stopwords\n",
    "from nltk.stem import PorterStemmer, WordNetLemmatizer\n",
    "import string\n",
    "import json\n",
    "import pandas as pd\n",
    "from sklearn.feature_extraction.text import CountVectorizer, TfidfVectorizer\n",
    "from gensim.models import Word2Vec\n"
   ]
  },
  {
   "cell_type": "code",
   "execution_count": 2,
   "id": "d917a351",
   "metadata": {},
   "outputs": [],
   "source": [
    "def preprocess_text(text):\n",
    "    tokens = word_tokenize(text)\n",
    "\n",
    "    tokens = [token.lower() for token in tokens]\n",
    "\n",
    "    stop_words = set(stopwords.words('english'))\n",
    "    tokens = [token for token in tokens if token not in stop_words]\n",
    "\n",
    "    tokens = [token for token in tokens if token not in string.punctuation]\n",
    "\n",
    "    stemmer = PorterStemmer()\n",
    "    tokens = [stemmer.stem(token) for token in tokens]\n",
    "\n",
    "    lemmatizer = WordNetLemmatizer()\n",
    "    tokens = [lemmatizer.lemmatize(token) for token in tokens]\n",
    "\n",
    "    return tokens"
   ]
  },
  {
   "cell_type": "code",
   "execution_count": 3,
   "id": "c281f13b",
   "metadata": {},
   "outputs": [],
   "source": [
    "with open('../data/labelled_data.json', 'r', encoding='utf-8') as file:\n",
    "    data = json.load(file)\n"
   ]
  },
  {
   "cell_type": "code",
   "execution_count": 4,
   "id": "e77f98c8",
   "metadata": {},
   "outputs": [],
   "source": [
    "for item in data:\n",
    "    item['text_content'] = preprocess_text(item['text_content'])"
   ]
  },
  {
   "cell_type": "code",
   "execution_count": 5,
   "id": "96a996b0",
   "metadata": {},
   "outputs": [],
   "source": [
    "with open('../data/updated_json_file.json', 'w') as file:\n",
    "    json.dump(data, file, indent=2)"
   ]
  },
  {
   "cell_type": "code",
   "execution_count": null,
   "id": "3487fbc2",
   "metadata": {},
   "outputs": [],
   "source": []
  },
  {
   "cell_type": "code",
   "execution_count": null,
   "id": "c8a1ba4d",
   "metadata": {},
   "outputs": [],
   "source": []
  },
  {
   "cell_type": "code",
   "execution_count": 6,
   "id": "8350d970",
   "metadata": {},
   "outputs": [],
   "source": [
    "with open('../data/updated_json_file.json', 'r') as file:\n",
    "    data = json.load(file)"
   ]
  },
  {
   "cell_type": "code",
   "execution_count": 7,
   "id": "e4d15b73",
   "metadata": {},
   "outputs": [],
   "source": [
    "df = pd.DataFrame(data)"
   ]
  },
  {
   "cell_type": "code",
   "execution_count": 8,
   "id": "e8828bc2",
   "metadata": {},
   "outputs": [
    {
     "data": {
      "text/html": [
       "<div>\n",
       "<style scoped>\n",
       "    .dataframe tbody tr th:only-of-type {\n",
       "        vertical-align: middle;\n",
       "    }\n",
       "\n",
       "    .dataframe tbody tr th {\n",
       "        vertical-align: top;\n",
       "    }\n",
       "\n",
       "    .dataframe thead th {\n",
       "        text-align: right;\n",
       "    }\n",
       "</style>\n",
       "<table border=\"1\" class=\"dataframe\">\n",
       "  <thead>\n",
       "    <tr style=\"text-align: right;\">\n",
       "      <th></th>\n",
       "      <th>text_content</th>\n",
       "      <th>sentiment</th>\n",
       "      <th>sentiment_score</th>\n",
       "    </tr>\n",
       "  </thead>\n",
       "  <tbody>\n",
       "    <tr>\n",
       "      <th>0</th>\n",
       "      <td>[hi, famili, session, last, week, use, wrinkl,...</td>\n",
       "      <td>positive</td>\n",
       "      <td>0.9513</td>\n",
       "    </tr>\n",
       "    <tr>\n",
       "      <th>1</th>\n",
       "      <td>[hi, friend, head, iceland, shoot, northern, l...</td>\n",
       "      <td>positive</td>\n",
       "      <td>0.9201</td>\n",
       "    </tr>\n",
       "    <tr>\n",
       "      <th>2</th>\n",
       "      <td>[hi, think, make, switch, lightroom, cloud, ri...</td>\n",
       "      <td>positive</td>\n",
       "      <td>0.9341</td>\n",
       "    </tr>\n",
       "    <tr>\n",
       "      <th>3</th>\n",
       "      <td>[specif, exercis, tip, would, recommend, enhan...</td>\n",
       "      <td>positive</td>\n",
       "      <td>0.7778</td>\n",
       "    </tr>\n",
       "    <tr>\n",
       "      <th>4</th>\n",
       "      <td>[peopl, still, hire, peopl, help, edit, photo,...</td>\n",
       "      <td>positive</td>\n",
       "      <td>0.9064</td>\n",
       "    </tr>\n",
       "    <tr>\n",
       "      <th>...</th>\n",
       "      <td>...</td>\n",
       "      <td>...</td>\n",
       "      <td>...</td>\n",
       "    </tr>\n",
       "    <tr>\n",
       "      <th>9375</th>\n",
       "      <td>[...]</td>\n",
       "      <td>neutral</td>\n",
       "      <td>0.0000</td>\n",
       "    </tr>\n",
       "    <tr>\n",
       "      <th>9376</th>\n",
       "      <td>[need, clear, tamron, 17-70, 2.8, soni, e-moun...</td>\n",
       "      <td>positive</td>\n",
       "      <td>0.6369</td>\n",
       "    </tr>\n",
       "    <tr>\n",
       "      <th>9377</th>\n",
       "      <td>[hi, ask, groom, 's, mother, bring, ``, fanci,...</td>\n",
       "      <td>positive</td>\n",
       "      <td>0.9671</td>\n",
       "    </tr>\n",
       "    <tr>\n",
       "      <th>9378</th>\n",
       "      <td>[big, time, photographi, fun, local, stuff, 's...</td>\n",
       "      <td>positive</td>\n",
       "      <td>0.9700</td>\n",
       "    </tr>\n",
       "    <tr>\n",
       "      <th>9379</th>\n",
       "      <td>[site, program, use, client, book, get, print,...</td>\n",
       "      <td>positive</td>\n",
       "      <td>0.6767</td>\n",
       "    </tr>\n",
       "  </tbody>\n",
       "</table>\n",
       "<p>9380 rows × 3 columns</p>\n",
       "</div>"
      ],
      "text/plain": [
       "                                           text_content sentiment  \\\n",
       "0     [hi, famili, session, last, week, use, wrinkl,...  positive   \n",
       "1     [hi, friend, head, iceland, shoot, northern, l...  positive   \n",
       "2     [hi, think, make, switch, lightroom, cloud, ri...  positive   \n",
       "3     [specif, exercis, tip, would, recommend, enhan...  positive   \n",
       "4     [peopl, still, hire, peopl, help, edit, photo,...  positive   \n",
       "...                                                 ...       ...   \n",
       "9375                                              [...]   neutral   \n",
       "9376  [need, clear, tamron, 17-70, 2.8, soni, e-moun...  positive   \n",
       "9377  [hi, ask, groom, 's, mother, bring, ``, fanci,...  positive   \n",
       "9378  [big, time, photographi, fun, local, stuff, 's...  positive   \n",
       "9379  [site, program, use, client, book, get, print,...  positive   \n",
       "\n",
       "      sentiment_score  \n",
       "0              0.9513  \n",
       "1              0.9201  \n",
       "2              0.9341  \n",
       "3              0.7778  \n",
       "4              0.9064  \n",
       "...               ...  \n",
       "9375           0.0000  \n",
       "9376           0.6369  \n",
       "9377           0.9671  \n",
       "9378           0.9700  \n",
       "9379           0.6767  \n",
       "\n",
       "[9380 rows x 3 columns]"
      ]
     },
     "execution_count": 8,
     "metadata": {},
     "output_type": "execute_result"
    }
   ],
   "source": [
    "df"
   ]
  },
  {
   "cell_type": "code",
   "execution_count": 9,
   "id": "2c090d51",
   "metadata": {},
   "outputs": [
    {
     "data": {
      "text/html": [
       "<div>\n",
       "<style scoped>\n",
       "    .dataframe tbody tr th:only-of-type {\n",
       "        vertical-align: middle;\n",
       "    }\n",
       "\n",
       "    .dataframe tbody tr th {\n",
       "        vertical-align: top;\n",
       "    }\n",
       "\n",
       "    .dataframe thead th {\n",
       "        text-align: right;\n",
       "    }\n",
       "</style>\n",
       "<table border=\"1\" class=\"dataframe\">\n",
       "  <thead>\n",
       "    <tr style=\"text-align: right;\">\n",
       "      <th></th>\n",
       "      <th>text_content</th>\n",
       "      <th>sentiment</th>\n",
       "      <th>sentiment_score</th>\n",
       "      <th>text_content_str</th>\n",
       "    </tr>\n",
       "  </thead>\n",
       "  <tbody>\n",
       "    <tr>\n",
       "      <th>0</th>\n",
       "      <td>[hi, famili, session, last, week, use, wrinkl,...</td>\n",
       "      <td>positive</td>\n",
       "      <td>0.9513</td>\n",
       "      <td>hi famili session last week use wrinkl backdro...</td>\n",
       "    </tr>\n",
       "    <tr>\n",
       "      <th>1</th>\n",
       "      <td>[hi, friend, head, iceland, shoot, northern, l...</td>\n",
       "      <td>positive</td>\n",
       "      <td>0.9201</td>\n",
       "      <td>hi friend head iceland shoot northern light lo...</td>\n",
       "    </tr>\n",
       "    <tr>\n",
       "      <th>2</th>\n",
       "      <td>[hi, think, make, switch, lightroom, cloud, ri...</td>\n",
       "      <td>positive</td>\n",
       "      <td>0.9341</td>\n",
       "      <td>hi think make switch lightroom cloud right syn...</td>\n",
       "    </tr>\n",
       "    <tr>\n",
       "      <th>3</th>\n",
       "      <td>[specif, exercis, tip, would, recommend, enhan...</td>\n",
       "      <td>positive</td>\n",
       "      <td>0.7778</td>\n",
       "      <td>specif exercis tip would recommend enhanc phot...</td>\n",
       "    </tr>\n",
       "    <tr>\n",
       "      <th>4</th>\n",
       "      <td>[peopl, still, hire, peopl, help, edit, photo,...</td>\n",
       "      <td>positive</td>\n",
       "      <td>0.9064</td>\n",
       "      <td>peopl still hire peopl help edit photo littl b...</td>\n",
       "    </tr>\n",
       "    <tr>\n",
       "      <th>...</th>\n",
       "      <td>...</td>\n",
       "      <td>...</td>\n",
       "      <td>...</td>\n",
       "      <td>...</td>\n",
       "    </tr>\n",
       "    <tr>\n",
       "      <th>9375</th>\n",
       "      <td>[...]</td>\n",
       "      <td>neutral</td>\n",
       "      <td>0.0000</td>\n",
       "      <td>...</td>\n",
       "    </tr>\n",
       "    <tr>\n",
       "      <th>9376</th>\n",
       "      <td>[need, clear, tamron, 17-70, 2.8, soni, e-moun...</td>\n",
       "      <td>positive</td>\n",
       "      <td>0.6369</td>\n",
       "      <td>need clear tamron 17-70 2.8 soni e-mount stain...</td>\n",
       "    </tr>\n",
       "    <tr>\n",
       "      <th>9377</th>\n",
       "      <td>[hi, ask, groom, 's, mother, bring, ``, fanci,...</td>\n",
       "      <td>positive</td>\n",
       "      <td>0.9671</td>\n",
       "      <td>hi ask groom 's mother bring `` fanci camera '...</td>\n",
       "    </tr>\n",
       "    <tr>\n",
       "      <th>9378</th>\n",
       "      <td>[big, time, photographi, fun, local, stuff, 's...</td>\n",
       "      <td>positive</td>\n",
       "      <td>0.9700</td>\n",
       "      <td>big time photographi fun local stuff 's good c...</td>\n",
       "    </tr>\n",
       "    <tr>\n",
       "      <th>9379</th>\n",
       "      <td>[site, program, use, client, book, get, print,...</td>\n",
       "      <td>positive</td>\n",
       "      <td>0.6767</td>\n",
       "      <td>site program use client book get print best ad...</td>\n",
       "    </tr>\n",
       "  </tbody>\n",
       "</table>\n",
       "<p>9380 rows × 4 columns</p>\n",
       "</div>"
      ],
      "text/plain": [
       "                                           text_content sentiment  \\\n",
       "0     [hi, famili, session, last, week, use, wrinkl,...  positive   \n",
       "1     [hi, friend, head, iceland, shoot, northern, l...  positive   \n",
       "2     [hi, think, make, switch, lightroom, cloud, ri...  positive   \n",
       "3     [specif, exercis, tip, would, recommend, enhan...  positive   \n",
       "4     [peopl, still, hire, peopl, help, edit, photo,...  positive   \n",
       "...                                                 ...       ...   \n",
       "9375                                              [...]   neutral   \n",
       "9376  [need, clear, tamron, 17-70, 2.8, soni, e-moun...  positive   \n",
       "9377  [hi, ask, groom, 's, mother, bring, ``, fanci,...  positive   \n",
       "9378  [big, time, photographi, fun, local, stuff, 's...  positive   \n",
       "9379  [site, program, use, client, book, get, print,...  positive   \n",
       "\n",
       "      sentiment_score                                   text_content_str  \n",
       "0              0.9513  hi famili session last week use wrinkl backdro...  \n",
       "1              0.9201  hi friend head iceland shoot northern light lo...  \n",
       "2              0.9341  hi think make switch lightroom cloud right syn...  \n",
       "3              0.7778  specif exercis tip would recommend enhanc phot...  \n",
       "4              0.9064  peopl still hire peopl help edit photo littl b...  \n",
       "...               ...                                                ...  \n",
       "9375           0.0000                                                ...  \n",
       "9376           0.6369  need clear tamron 17-70 2.8 soni e-mount stain...  \n",
       "9377           0.9671  hi ask groom 's mother bring `` fanci camera '...  \n",
       "9378           0.9700  big time photographi fun local stuff 's good c...  \n",
       "9379           0.6767  site program use client book get print best ad...  \n",
       "\n",
       "[9380 rows x 4 columns]"
      ]
     },
     "execution_count": 9,
     "metadata": {},
     "output_type": "execute_result"
    }
   ],
   "source": [
    "from sklearn.feature_extraction.text import CountVectorizer\n",
    "\n",
    "# Convert lists of tokens to space-separated strings\n",
    "df['text_content_str'] = df['text_content'].apply(lambda x: ' '.join(x))\n",
    "df\n"
   ]
  },
  {
   "cell_type": "code",
   "execution_count": 12,
   "id": "e6694fff",
   "metadata": {},
   "outputs": [
    {
     "name": "stdout",
     "output_type": "stream",
     "text": [
      "Bag-of-Words features shape: (9380, 6465)\n"
     ]
    }
   ],
   "source": [
    "# Bag-of-Words (BoW) representation\n",
    "bow_vectorizer = CountVectorizer()\n",
    "bow_features = bow_vectorizer.fit_transform(df['text_content_str'])\n",
    "print(\"Bag-of-Words features shape:\", bow_features.shape)"
   ]
  },
  {
   "cell_type": "code",
   "execution_count": 13,
   "id": "766d0d46",
   "metadata": {},
   "outputs": [
    {
     "name": "stdout",
     "output_type": "stream",
     "text": [
      "TF-IDF features shape: (9380, 6465)\n"
     ]
    }
   ],
   "source": [
    "tfidf_vectorizer = TfidfVectorizer()\n",
    "tfidf_features = tfidf_vectorizer.fit_transform(df['text_content_str'])\n",
    "print(\"TF-IDF features shape:\", tfidf_features.shape)\n"
   ]
  },
  {
   "cell_type": "code",
   "execution_count": 14,
   "id": "5737e69e",
   "metadata": {},
   "outputs": [
    {
     "name": "stdout",
     "output_type": "stream",
     "text": [
      "Word2Vec features shape: (7000, 100)\n"
     ]
    }
   ],
   "source": [
    "tokenized_text = df['text_content_str'].apply(word_tokenize)\n",
    "word2vec_model = Word2Vec(sentences=tokenized_text, vector_size=100, window=5, min_count=1, workers=4)\n",
    "word2vec_features = word2vec_model.wv.vectors\n",
    "print(\"Word2Vec features shape:\", word2vec_features.shape)\n"
   ]
  },
  {
   "cell_type": "code",
   "execution_count": 15,
   "id": "d571a517",
   "metadata": {},
   "outputs": [
    {
     "name": "stdout",
     "output_type": "stream",
     "text": [
      "HashingVectorizer features shape: (9380, 1000)\n"
     ]
    }
   ],
   "source": [
    "from sklearn.feature_extraction.text import HashingVectorizer\n",
    "\n",
    "# Create an instance of HashingVectorizer\n",
    "hash_vectorizer = HashingVectorizer(n_features=1000)\n",
    "\n",
    "# Apply HashingVectorizer to the text data\n",
    "hash_features = hash_vectorizer.transform(df['text_content_str'])\n",
    "\n",
    "# Print the shape of the hash features\n",
    "print(\"HashingVectorizer features shape:\", hash_features.shape)"
   ]
  },
  {
   "cell_type": "code",
   "execution_count": 16,
   "id": "a4a74a96",
   "metadata": {},
   "outputs": [
    {
     "name": "stdout",
     "output_type": "stream",
     "text": [
      "Name: scikit-learn\n",
      "Version: 1.3.2\n",
      "Summary: A set of python modules for machine learning and data mining\n",
      "Home-page: http://scikit-learn.org\n",
      "Author: \n",
      "Author-email: \n",
      "License: new BSD\n",
      "Location: C:\\Users\\nihal\\Machine Learning Programming - Programs\\Project\\Sentiment-Analysis\\venv\\Lib\\site-packages\n",
      "Requires: joblib, numpy, scipy, threadpoolctl\n",
      "Required-by: \n",
      "Note: you may need to restart the kernel to use updated packages.\n"
     ]
    }
   ],
   "source": [
    "pip show scikit-learn"
   ]
  },
  {
   "cell_type": "code",
   "execution_count": 17,
   "id": "7fc04cc9",
   "metadata": {},
   "outputs": [
    {
     "name": "stdout",
     "output_type": "stream",
     "text": [
      "scikit-learn version: 1.3.2\n"
     ]
    }
   ],
   "source": [
    "import sklearn\n",
    "print(\"scikit-learn version:\", sklearn.__version__)"
   ]
  },
  {
   "cell_type": "code",
   "execution_count": 18,
   "id": "2acd18f8",
   "metadata": {},
   "outputs": [
    {
     "name": "stdout",
     "output_type": "stream",
     "text": [
      "Requirement already satisfied: scikit-learn in c:\\users\\nihal\\machine learning programming - programs\\project\\sentiment-analysis\\venv\\lib\\site-packages (1.3.2)\n",
      "Requirement already satisfied: numpy<2.0,>=1.17.3 in c:\\users\\nihal\\machine learning programming - programs\\project\\sentiment-analysis\\venv\\lib\\site-packages (from scikit-learn) (1.26.2)\n",
      "Requirement already satisfied: scipy>=1.5.0 in c:\\users\\nihal\\machine learning programming - programs\\project\\sentiment-analysis\\venv\\lib\\site-packages (from scikit-learn) (1.11.4)\n",
      "Requirement already satisfied: joblib>=1.1.1 in c:\\users\\nihal\\machine learning programming - programs\\project\\sentiment-analysis\\venv\\lib\\site-packages (from scikit-learn) (1.3.2)\n",
      "Requirement already satisfied: threadpoolctl>=2.0.0 in c:\\users\\nihal\\machine learning programming - programs\\project\\sentiment-analysis\\venv\\lib\\site-packages (from scikit-learn) (3.2.0)\n",
      "Note: you may need to restart the kernel to use updated packages.\n"
     ]
    },
    {
     "name": "stderr",
     "output_type": "stream",
     "text": [
      "\n",
      "[notice] A new release of pip is available: 23.2.1 -> 23.3.1\n",
      "[notice] To update, run: python.exe -m pip install --upgrade pip\n"
     ]
    }
   ],
   "source": [
    "pip install --upgrade scikit-learn"
   ]
  },
  {
   "cell_type": "code",
   "execution_count": 20,
   "id": "71df0219",
   "metadata": {},
   "outputs": [
    {
     "name": "stdout",
     "output_type": "stream",
     "text": [
      "Topic #1: photo famili use share take took one photograph could taken\n",
      "Topic #2: com http www reddit wiki photography buy 3f faq ___\n",
      "Topic #3: print sell printer qualiti local websit ship size art servic\n",
      "Topic #4: imag edit raw lightroom color look use one file set\n",
      "Topic #5: share discord thread prompt discus critiqu commun forget feedback set\n",
      "Topic #6: photographi look good book photograph peopl find portrait interest get\n",
      "Topic #7: shoot client work ask charg time day get photograph hour\n",
      "Topic #8: light flash shoot use set iso night tip dark studio\n",
      "Topic #9: len camera lens use focal nikon 50mm 70 canon film\n",
      "Topic #10: pictur take camera idea want video put like pic tri\n"
     ]
    }
   ],
   "source": [
    "from sklearn.decomposition import NMF\n",
    "from sklearn.feature_extraction.text import TfidfVectorizer\n",
    "\n",
    "# We will create an instance of TfidfVectorizer\n",
    "tfidf_vectorizer = TfidfVectorizer()\n",
    "\n",
    "# We will apply TfidfVectorizer to the text data\n",
    "tfidf_features = tfidf_vectorizer.fit_transform(df['text_content_str'])\n",
    "\n",
    "# We will create an instance of NMF\n",
    "nmf_model = NMF(n_components=10, random_state=42)\n",
    "\n",
    "# Now, we will Fit the NMF model to the TF-IDF features\n",
    "nmf_model.fit(tfidf_features)\n",
    "\n",
    "# We will print the top words for each topic\n",
    "feature_names = tfidf_vectorizer.get_feature_names_out()\n",
    "for topic_idx, topic in enumerate(nmf_model.components_):\n",
    "    top_words = [feature_names[i] for i in topic.argsort()[:-10 - 1:-1]]\n",
    "    print(f\"Topic #{topic_idx + 1}: {' '.join(top_words)}\")"
   ]
  },
  {
   "cell_type": "code",
   "execution_count": 21,
   "id": "7241e687",
   "metadata": {},
   "outputs": [
    {
     "name": "stdout",
     "output_type": "stream",
     "text": [
      "Topic #1: photo want get would take like look know photographi photograph\n",
      "Topic #2: len would light use shoot photo like focal get work\n",
      "Topic #3: photo edit use look print imag like one set color\n",
      "Topic #4: http com www reddit buy photography wiki camera question 3f\n",
      "Topic #5: photo like photograph use photographi camera would want take work\n",
      "Topic #6: photo erwitt pictur camera like use post photograph want take\n",
      "Topic #7: photographi would use photograph want get like peopl work go\n",
      "Topic #8: shoot photo flash print would photograph camera like get pictur\n",
      "Topic #9: like photo shoot get use photographi photograph imag would good\n",
      "Topic #10: photo get camera use tri take look like photograph would\n"
     ]
    }
   ],
   "source": [
    "from sklearn.decomposition import LatentDirichletAllocation\n",
    "from sklearn.feature_extraction.text import CountVectorizer\n",
    "\n",
    "# Create an instance of CountVectorizer\n",
    "count_vectorizer = CountVectorizer()\n",
    "\n",
    "# Apply CountVectorizer to the text data\n",
    "count_features = count_vectorizer.fit_transform(df['text_content_str'])\n",
    "\n",
    "# Create an instance of LatentDirichletAllocation\n",
    "lda_model = LatentDirichletAllocation(n_components=10, random_state=42)\n",
    "\n",
    "# Fit the LDA model to the count features\n",
    "lda_model.fit(count_features)\n",
    "\n",
    "# Print the top words for each topic\n",
    "feature_names = count_vectorizer.get_feature_names_out()\n",
    "for topic_idx, topic in enumerate(lda_model.components_):\n",
    "    top_words = [feature_names[i] for i in topic.argsort()[:-10 - 1:-1]]\n",
    "    print(f\"Topic #{topic_idx + 1}: {' '.join(top_words)}\")"
   ]
  },
  {
   "cell_type": "code",
   "execution_count": 22,
   "id": "da0b28d6",
   "metadata": {},
   "outputs": [],
   "source": [
    "from sklearn.model_selection import train_test_split\n",
    "from sklearn.svm import SVC\n",
    "from sklearn.metrics import accuracy_score, classification_report\n",
    "from sklearn.naive_bayes import MultinomialNB\n",
    "from sklearn.ensemble import RandomForestClassifier\n",
    "from sklearn.linear_model import LogisticRegression\n",
    "from xgboost import XGBClassifier\n",
    "from sklearn.preprocessing import LabelEncoder\n"
   ]
  },
  {
   "cell_type": "code",
   "execution_count": 23,
   "id": "27662bcf",
   "metadata": {},
   "outputs": [],
   "source": [
    "X = df['text_content_str']\n",
    "y = df['sentiment']"
   ]
  },
  {
   "cell_type": "code",
   "execution_count": 24,
   "id": "bf6dd19c",
   "metadata": {},
   "outputs": [],
   "source": [
    "X_train, X_test, y_train, y_test = train_test_split(X, y, test_size=0.2, random_state=42)\n"
   ]
  },
  {
   "cell_type": "code",
   "execution_count": 25,
   "id": "c7826365",
   "metadata": {},
   "outputs": [],
   "source": [
    "tfidf_vectorizer = TfidfVectorizer()\n",
    "X_train_tfidf = tfidf_vectorizer.fit_transform(X_train)\n",
    "X_test_tfidf = tfidf_vectorizer.transform(X_test)"
   ]
  },
  {
   "cell_type": "code",
   "execution_count": 26,
   "id": "738887d4",
   "metadata": {},
   "outputs": [],
   "source": [
    "label_encoder = LabelEncoder()\n",
    "y_train_encoded = label_encoder.fit_transform(y_train)\n",
    "y_test_encoded = label_encoder.transform(y_test)"
   ]
  },
  {
   "cell_type": "code",
   "execution_count": 27,
   "id": "dbb8c601",
   "metadata": {},
   "outputs": [
    {
     "name": "stdout",
     "output_type": "stream",
     "text": [
      "Label Mapping:\n",
      "negative --> 0\n",
      "neutral --> 1\n",
      "positive --> 2\n"
     ]
    }
   ],
   "source": [
    "label_mapping = dict(zip(label_encoder.classes_, label_encoder.transform(label_encoder.classes_)))\n",
    "print(\"Label Mapping:\")\n",
    "for label, encoded_label in label_mapping.items():\n",
    "    print(f\"{label} --> {encoded_label}\")"
   ]
  },
  {
   "cell_type": "code",
   "execution_count": 28,
   "id": "5cce8f23",
   "metadata": {},
   "outputs": [
    {
     "name": "stdout",
     "output_type": "stream",
     "text": [
      "SVC Accuracy: 1.00\n",
      "SVC Classification Report:\n",
      "               precision    recall  f1-score   support\n",
      "\n",
      "           0       1.00      1.00      1.00       299\n",
      "           1       1.00      0.93      0.97        75\n",
      "           2       1.00      1.00      1.00      1502\n",
      "\n",
      "    accuracy                           1.00      1876\n",
      "   macro avg       1.00      0.98      0.99      1876\n",
      "weighted avg       1.00      1.00      1.00      1876\n",
      "\n",
      " \n",
      "\n",
      "XGBClassifier Accuracy: 1.00\n",
      "XGBClassifier Classification Report:\n",
      "               precision    recall  f1-score   support\n",
      "\n",
      "           0       1.00      1.00      1.00       299\n",
      "           1       1.00      1.00      1.00        75\n",
      "           2       1.00      1.00      1.00      1502\n",
      "\n",
      "    accuracy                           1.00      1876\n",
      "   macro avg       1.00      1.00      1.00      1876\n",
      "weighted avg       1.00      1.00      1.00      1876\n",
      "\n",
      " \n",
      "\n",
      "LogisticRegression Accuracy: 0.99\n",
      "LogisticRegression Classification Report:\n",
      "               precision    recall  f1-score   support\n",
      "\n",
      "           0       1.00      0.98      0.99       299\n",
      "           1       1.00      0.93      0.97        75\n",
      "           2       0.99      1.00      1.00      1502\n",
      "\n",
      "    accuracy                           0.99      1876\n",
      "   macro avg       1.00      0.97      0.98      1876\n",
      "weighted avg       0.99      0.99      0.99      1876\n",
      "\n",
      " \n",
      "\n",
      "RandomForestClassifier Accuracy: 1.00\n",
      "RandomForestClassifier Classification Report:\n",
      "               precision    recall  f1-score   support\n",
      "\n",
      "           0       1.00      1.00      1.00       299\n",
      "           1       1.00      1.00      1.00        75\n",
      "           2       1.00      1.00      1.00      1502\n",
      "\n",
      "    accuracy                           1.00      1876\n",
      "   macro avg       1.00      1.00      1.00      1876\n",
      "weighted avg       1.00      1.00      1.00      1876\n",
      "\n",
      " \n",
      "\n",
      "MultinomialNB Accuracy: 0.90\n",
      "MultinomialNB Classification Report:\n",
      "               precision    recall  f1-score   support\n",
      "\n",
      "           0       1.00      0.54      0.70       299\n",
      "           1       0.84      0.35      0.49        75\n",
      "           2       0.89      1.00      0.94      1502\n",
      "\n",
      "    accuracy                           0.90      1876\n",
      "   macro avg       0.91      0.63      0.71      1876\n",
      "weighted avg       0.90      0.90      0.88      1876\n",
      "\n",
      " \n",
      "\n"
     ]
    }
   ],
   "source": [
    "models = [SVC(kernel='linear', random_state=42),XGBClassifier(),LogisticRegression(), RandomForestClassifier(),MultinomialNB()]\n",
    "accuracy=[]\n",
    "class_reports =[]\n",
    "for model in models:\n",
    "    model.fit(X_train_tfidf, y_train_encoded)\n",
    "\n",
    "    y_pred = model.predict(X_test_tfidf)\n",
    "\n",
    "    acc = accuracy_score(y_test_encoded, y_pred)\n",
    "    class_rep = classification_report(y_test_encoded, y_pred)\n",
    "    accuracy.append(acc)\n",
    "    class_reports.append(class_rep)\n",
    "\n",
    "    print(f'{model.__class__.__name__} Accuracy: {acc:.2f}')\n",
    "    print(f'{model.__class__.__name__} Classification Report:\\n {class_rep}\\n \\n')\n"
   ]
  },
  {
   "cell_type": "code",
   "execution_count": 30,
   "id": "e58fcde8",
   "metadata": {},
   "outputs": [],
   "source": [
    "from sklearn.model_selection import GridSearchCV\n",
    "# Define the parameter grid for SVC\n",
    "param_grid = {'C': [0.1, 1, 10, 100], 'gamma': [1, 0.1, 0.01, 0.001], 'kernel': ['linear']}\n",
    "\n",
    "# Create SVC model\n",
    "svc_model = SVC(random_state=42)\n",
    "\n",
    "# Apply GridSearchCV for hyperparameter tuning\n",
    "grid_search = GridSearchCV(svc_model, param_grid, cv=5, scoring='accuracy')\n",
    "grid_search.fit(X_train_tfidf, y_train_encoded)\n",
    "\n",
    "# Get the best model from the grid search\n",
    "best_svc_model = grid_search.best_estimator_"
   ]
  },
  {
   "cell_type": "code",
   "execution_count": 31,
   "id": "efc1e01b",
   "metadata": {},
   "outputs": [
    {
     "data": {
      "text/html": [
       "<style>#sk-container-id-1 {color: black;}#sk-container-id-1 pre{padding: 0;}#sk-container-id-1 div.sk-toggleable {background-color: white;}#sk-container-id-1 label.sk-toggleable__label {cursor: pointer;display: block;width: 100%;margin-bottom: 0;padding: 0.3em;box-sizing: border-box;text-align: center;}#sk-container-id-1 label.sk-toggleable__label-arrow:before {content: \"▸\";float: left;margin-right: 0.25em;color: #696969;}#sk-container-id-1 label.sk-toggleable__label-arrow:hover:before {color: black;}#sk-container-id-1 div.sk-estimator:hover label.sk-toggleable__label-arrow:before {color: black;}#sk-container-id-1 div.sk-toggleable__content {max-height: 0;max-width: 0;overflow: hidden;text-align: left;background-color: #f0f8ff;}#sk-container-id-1 div.sk-toggleable__content pre {margin: 0.2em;color: black;border-radius: 0.25em;background-color: #f0f8ff;}#sk-container-id-1 input.sk-toggleable__control:checked~div.sk-toggleable__content {max-height: 200px;max-width: 100%;overflow: auto;}#sk-container-id-1 input.sk-toggleable__control:checked~label.sk-toggleable__label-arrow:before {content: \"▾\";}#sk-container-id-1 div.sk-estimator input.sk-toggleable__control:checked~label.sk-toggleable__label {background-color: #d4ebff;}#sk-container-id-1 div.sk-label input.sk-toggleable__control:checked~label.sk-toggleable__label {background-color: #d4ebff;}#sk-container-id-1 input.sk-hidden--visually {border: 0;clip: rect(1px 1px 1px 1px);clip: rect(1px, 1px, 1px, 1px);height: 1px;margin: -1px;overflow: hidden;padding: 0;position: absolute;width: 1px;}#sk-container-id-1 div.sk-estimator {font-family: monospace;background-color: #f0f8ff;border: 1px dotted black;border-radius: 0.25em;box-sizing: border-box;margin-bottom: 0.5em;}#sk-container-id-1 div.sk-estimator:hover {background-color: #d4ebff;}#sk-container-id-1 div.sk-parallel-item::after {content: \"\";width: 100%;border-bottom: 1px solid gray;flex-grow: 1;}#sk-container-id-1 div.sk-label:hover label.sk-toggleable__label {background-color: #d4ebff;}#sk-container-id-1 div.sk-serial::before {content: \"\";position: absolute;border-left: 1px solid gray;box-sizing: border-box;top: 0;bottom: 0;left: 50%;z-index: 0;}#sk-container-id-1 div.sk-serial {display: flex;flex-direction: column;align-items: center;background-color: white;padding-right: 0.2em;padding-left: 0.2em;position: relative;}#sk-container-id-1 div.sk-item {position: relative;z-index: 1;}#sk-container-id-1 div.sk-parallel {display: flex;align-items: stretch;justify-content: center;background-color: white;position: relative;}#sk-container-id-1 div.sk-item::before, #sk-container-id-1 div.sk-parallel-item::before {content: \"\";position: absolute;border-left: 1px solid gray;box-sizing: border-box;top: 0;bottom: 0;left: 50%;z-index: -1;}#sk-container-id-1 div.sk-parallel-item {display: flex;flex-direction: column;z-index: 1;position: relative;background-color: white;}#sk-container-id-1 div.sk-parallel-item:first-child::after {align-self: flex-end;width: 50%;}#sk-container-id-1 div.sk-parallel-item:last-child::after {align-self: flex-start;width: 50%;}#sk-container-id-1 div.sk-parallel-item:only-child::after {width: 0;}#sk-container-id-1 div.sk-dashed-wrapped {border: 1px dashed gray;margin: 0 0.4em 0.5em 0.4em;box-sizing: border-box;padding-bottom: 0.4em;background-color: white;}#sk-container-id-1 div.sk-label label {font-family: monospace;font-weight: bold;display: inline-block;line-height: 1.2em;}#sk-container-id-1 div.sk-label-container {text-align: center;}#sk-container-id-1 div.sk-container {/* jupyter's `normalize.less` sets `[hidden] { display: none; }` but bootstrap.min.css set `[hidden] { display: none !important; }` so we also need the `!important` here to be able to override the default hidden behavior on the sphinx rendered scikit-learn.org. See: https://github.com/scikit-learn/scikit-learn/issues/21755 */display: inline-block !important;position: relative;}#sk-container-id-1 div.sk-text-repr-fallback {display: none;}</style><div id=\"sk-container-id-1\" class=\"sk-top-container\"><div class=\"sk-text-repr-fallback\"><pre>SVC(C=10, gamma=1, kernel=&#x27;linear&#x27;, random_state=42)</pre><b>In a Jupyter environment, please rerun this cell to show the HTML representation or trust the notebook. <br />On GitHub, the HTML representation is unable to render, please try loading this page with nbviewer.org.</b></div><div class=\"sk-container\" hidden><div class=\"sk-item\"><div class=\"sk-estimator sk-toggleable\"><input class=\"sk-toggleable__control sk-hidden--visually\" id=\"sk-estimator-id-1\" type=\"checkbox\" checked><label for=\"sk-estimator-id-1\" class=\"sk-toggleable__label sk-toggleable__label-arrow\">SVC</label><div class=\"sk-toggleable__content\"><pre>SVC(C=10, gamma=1, kernel=&#x27;linear&#x27;, random_state=42)</pre></div></div></div></div></div>"
      ],
      "text/plain": [
       "SVC(C=10, gamma=1, kernel='linear', random_state=42)"
      ]
     },
     "execution_count": 31,
     "metadata": {},
     "output_type": "execute_result"
    }
   ],
   "source": [
    "best_svc_model"
   ]
  },
  {
   "cell_type": "code",
   "execution_count": 32,
   "id": "79a90fa9",
   "metadata": {},
   "outputs": [],
   "source": [
    "best_svc_model = grid_search.best_estimator_\n"
   ]
  },
  {
   "cell_type": "code",
   "execution_count": 33,
   "id": "67540cb0",
   "metadata": {},
   "outputs": [],
   "source": [
    "y_pred = best_svc_model.predict(X_test_tfidf)\n",
    "\n",
    "# Evaluate the model\n",
    "acc = accuracy_score(y_test_encoded, y_pred)\n",
    "class_rep = classification_report(y_test_encoded, y_pred)"
   ]
  },
  {
   "cell_type": "code",
   "execution_count": 34,
   "id": "5136ea80",
   "metadata": {},
   "outputs": [
    {
     "name": "stdout",
     "output_type": "stream",
     "text": [
      "              precision    recall  f1-score   support\n",
      "\n",
      "           0       1.00      1.00      1.00       299\n",
      "           1       1.00      1.00      1.00        75\n",
      "           2       1.00      1.00      1.00      1502\n",
      "\n",
      "    accuracy                           1.00      1876\n",
      "   macro avg       1.00      1.00      1.00      1876\n",
      "weighted avg       1.00      1.00      1.00      1876\n",
      "\n"
     ]
    }
   ],
   "source": [
    "print(class_rep)"
   ]
  },
  {
   "cell_type": "code",
   "execution_count": 35,
   "id": "17bc1638",
   "metadata": {},
   "outputs": [
    {
     "data": {
      "text/plain": [
       "['../data/svc_model.joblib']"
      ]
     },
     "execution_count": 35,
     "metadata": {},
     "output_type": "execute_result"
    }
   ],
   "source": [
    "import joblib\n",
    "\n",
    "joblib.dump(svc_model, '../data/svc_model.joblib')\n"
   ]
  },
  {
   "cell_type": "code",
   "execution_count": null,
   "id": "9b0a066f",
   "metadata": {},
   "outputs": [],
   "source": []
  },
  {
   "cell_type": "code",
   "execution_count": null,
   "id": "9e941b95",
   "metadata": {},
   "outputs": [],
   "source": []
  },
  {
   "cell_type": "code",
   "execution_count": 36,
   "id": "b5f32f83",
   "metadata": {},
   "outputs": [],
   "source": [
    "preprocessed_new_data = preprocess_text(\"If he was to reproduce at all it would be asexually in a puddle of toxic bile, regurgitating some pure fucking homunculus of everything that is wrong with the world.\")"
   ]
  },
  {
   "cell_type": "code",
   "execution_count": 37,
   "id": "de1c46dc",
   "metadata": {},
   "outputs": [
    {
     "name": "stdout",
     "output_type": "stream",
     "text": [
      "WARNING:tensorflow:From C:\\Users\\nihal\\Machine Learning Programming - Programs\\Project\\Sentiment-Analysis\\venv\\Lib\\site-packages\\keras\\src\\losses.py:2976: The name tf.losses.sparse_softmax_cross_entropy is deprecated. Please use tf.compat.v1.losses.sparse_softmax_cross_entropy instead.\n",
      "\n"
     ]
    }
   ],
   "source": [
    "from tensorflow.keras.models import Sequential\n",
    "from tensorflow.keras.layers import Embedding, LSTM, Dense, GlobalMaxPooling1D\n",
    "from tensorflow.keras.preprocessing.text import Tokenizer\n",
    "from tensorflow.keras.preprocessing.sequence import pad_sequences"
   ]
  },
  {
   "cell_type": "code",
   "execution_count": 38,
   "id": "ecbdef67",
   "metadata": {},
   "outputs": [],
   "source": [
    "X_train, X_test, y_train, y_test = train_test_split(X, y, test_size=0.2, random_state=42)\n"
   ]
  },
  {
   "cell_type": "code",
   "execution_count": 39,
   "id": "4d4a9bf0",
   "metadata": {},
   "outputs": [],
   "source": [
    "max_words = 10000\n",
    "max_len = 100"
   ]
  },
  {
   "cell_type": "code",
   "execution_count": 40,
   "id": "3a93df6d",
   "metadata": {},
   "outputs": [],
   "source": [
    "tokenizer = Tokenizer(num_words=max_words)\n",
    "tokenizer.fit_on_texts(X_train)"
   ]
  },
  {
   "cell_type": "code",
   "execution_count": 41,
   "id": "b189e3c3",
   "metadata": {},
   "outputs": [],
   "source": [
    "X_train_sequences = tokenizer.texts_to_sequences(X_train)\n",
    "X_test_sequences = tokenizer.texts_to_sequences(X_test)"
   ]
  },
  {
   "cell_type": "code",
   "execution_count": 42,
   "id": "94de1c7c",
   "metadata": {},
   "outputs": [],
   "source": [
    "X_train_padded = pad_sequences(X_train_sequences, maxlen=max_len, padding='post', truncating='post')\n",
    "X_test_padded = pad_sequences(X_test_sequences, maxlen=max_len, padding='post', truncating='post')\n"
   ]
  },
  {
   "cell_type": "code",
   "execution_count": 43,
   "id": "69e232b3",
   "metadata": {},
   "outputs": [],
   "source": [
    "# Encode labels\n",
    "label_encoder = LabelEncoder()\n",
    "y_train_encoded = label_encoder.fit_transform(y_train)\n",
    "y_test_encoded = label_encoder.transform(y_test)"
   ]
  },
  {
   "cell_type": "code",
   "execution_count": 44,
   "id": "2f106aeb",
   "metadata": {},
   "outputs": [
    {
     "name": "stdout",
     "output_type": "stream",
     "text": [
      "WARNING:tensorflow:From C:\\Users\\nihal\\Machine Learning Programming - Programs\\Project\\Sentiment-Analysis\\venv\\Lib\\site-packages\\keras\\src\\backend.py:873: The name tf.get_default_graph is deprecated. Please use tf.compat.v1.get_default_graph instead.\n",
      "\n"
     ]
    }
   ],
   "source": [
    "embedding_dim = 50\n",
    "\n",
    "model = Sequential()\n",
    "model.add(Embedding(input_dim=max_words, output_dim=embedding_dim, input_length=max_len))\n",
    "model.add(LSTM(units=100, dropout=0.2, recurrent_dropout=0.2))\n",
    "model.add(Dense(units=3, activation='softmax'))"
   ]
  },
  {
   "cell_type": "code",
   "execution_count": 45,
   "id": "90178fff",
   "metadata": {},
   "outputs": [
    {
     "name": "stdout",
     "output_type": "stream",
     "text": [
      "WARNING:tensorflow:From C:\\Users\\nihal\\Machine Learning Programming - Programs\\Project\\Sentiment-Analysis\\venv\\Lib\\site-packages\\keras\\src\\optimizers\\__init__.py:309: The name tf.train.Optimizer is deprecated. Please use tf.compat.v1.train.Optimizer instead.\n",
      "\n"
     ]
    }
   ],
   "source": [
    "model.compile(optimizer='adam', loss='sparse_categorical_crossentropy', metrics=['accuracy'])\n"
   ]
  },
  {
   "cell_type": "code",
   "execution_count": 46,
   "id": "6731408b",
   "metadata": {},
   "outputs": [
    {
     "name": "stdout",
     "output_type": "stream",
     "text": [
      "Epoch 1/5\n",
      "WARNING:tensorflow:From C:\\Users\\nihal\\Machine Learning Programming - Programs\\Project\\Sentiment-Analysis\\venv\\Lib\\site-packages\\keras\\src\\utils\\tf_utils.py:492: The name tf.ragged.RaggedTensorValue is deprecated. Please use tf.compat.v1.ragged.RaggedTensorValue instead.\n",
      "\n",
      "WARNING:tensorflow:From C:\\Users\\nihal\\Machine Learning Programming - Programs\\Project\\Sentiment-Analysis\\venv\\Lib\\site-packages\\keras\\src\\engine\\base_layer_utils.py:384: The name tf.executing_eagerly_outside_functions is deprecated. Please use tf.compat.v1.executing_eagerly_outside_functions instead.\n",
      "\n",
      "212/212 [==============================] - 28s 111ms/step - loss: 0.6354 - accuracy: 0.7928 - val_loss: 0.5865 - val_accuracy: 0.7989\n",
      "Epoch 2/5\n",
      "212/212 [==============================] - 23s 111ms/step - loss: 0.5605 - accuracy: 0.8090 - val_loss: 0.5116 - val_accuracy: 0.8282\n",
      "Epoch 3/5\n",
      "212/212 [==============================] - 23s 111ms/step - loss: 0.5073 - accuracy: 0.8239 - val_loss: 0.3972 - val_accuracy: 0.8349\n",
      "Epoch 4/5\n",
      "212/212 [==============================] - 24s 113ms/step - loss: 0.4423 - accuracy: 0.8590 - val_loss: 0.4474 - val_accuracy: 0.8655\n",
      "Epoch 5/5\n",
      "212/212 [==============================] - 24s 111ms/step - loss: 0.3824 - accuracy: 0.8824 - val_loss: 0.3385 - val_accuracy: 0.9028\n",
      "59/59 [==============================] - 2s 19ms/step\n"
     ]
    }
   ],
   "source": [
    "epochs = 5\n",
    "batch_size = 32\n",
    "\n",
    "model.fit(X_train_padded, y_train_encoded, epochs=epochs, batch_size=batch_size, validation_split=0.1)\n",
    "\n",
    "# Evaluate the model on the test set\n",
    "y_pred_probs  = model.predict(X_test_padded)\n",
    "y_pred = y_pred_probs.argmax(axis=-1)\n",
    "acc = accuracy_score(y_test_encoded, y_pred)\n",
    "class_rep = classification_report(y_test_encoded, y_pred)"
   ]
  },
  {
   "cell_type": "code",
   "execution_count": 47,
   "id": "61b18121",
   "metadata": {},
   "outputs": [
    {
     "data": {
      "text/plain": [
       "0.8976545842217484"
      ]
     },
     "execution_count": 47,
     "metadata": {},
     "output_type": "execute_result"
    }
   ],
   "source": [
    "acc "
   ]
  },
  {
   "cell_type": "code",
   "execution_count": 48,
   "id": "2dca72a4",
   "metadata": {},
   "outputs": [],
   "source": [
    "# Define hyperparameters to experiment with\n",
    "units_list = [50, 100, 150]\n",
    "dropout_list = [0.2, 0.3, 0.4]\n",
    "recurrent_dropout_list = [0.2, 0.3, 0.4]\n",
    "optimizer_list = ['adam', 'rmsprop']"
   ]
  },
  {
   "cell_type": "code",
   "execution_count": 49,
   "id": "a90c6c9b",
   "metadata": {},
   "outputs": [],
   "source": [
    "best_accuracy = 0\n",
    "best_params = {}"
   ]
  },
  {
   "cell_type": "code",
   "execution_count": 50,
   "id": "93cbe8a2",
   "metadata": {},
   "outputs": [
    {
     "name": "stdout",
     "output_type": "stream",
     "text": [
      "59/59 [==============================] - 1s 12ms/step\n",
      "59/59 [==============================] - 1s 12ms/step\n",
      "59/59 [==============================] - 1s 13ms/step\n",
      "59/59 [==============================] - 1s 12ms/step\n",
      "59/59 [==============================] - 1s 15ms/step\n",
      "59/59 [==============================] - 1s 13ms/step\n",
      "59/59 [==============================] - 1s 13ms/step\n",
      "59/59 [==============================] - 1s 13ms/step\n",
      "59/59 [==============================] - 1s 15ms/step\n",
      "59/59 [==============================] - 1s 14ms/step\n",
      "59/59 [==============================] - 1s 13ms/step\n",
      "59/59 [==============================] - 1s 13ms/step\n",
      "59/59 [==============================] - 1s 14ms/step\n",
      "59/59 [==============================] - 1s 13ms/step\n",
      "59/59 [==============================] - 1s 16ms/step\n",
      "59/59 [==============================] - 1s 16ms/step\n",
      "59/59 [==============================] - 1s 17ms/step\n",
      "59/59 [==============================] - 1s 15ms/step\n",
      "59/59 [==============================] - 2s 26ms/step\n",
      "59/59 [==============================] - 2s 25ms/step\n",
      "59/59 [==============================] - 3s 35ms/step\n",
      "59/59 [==============================] - 2s 36ms/step\n",
      "59/59 [==============================] - 4s 61ms/step\n",
      "59/59 [==============================] - 2s 29ms/step\n",
      "59/59 [==============================] - 2s 29ms/step\n",
      "59/59 [==============================] - 2s 31ms/step\n",
      "59/59 [==============================] - 2s 35ms/step\n",
      "59/59 [==============================] - 3s 37ms/step\n",
      "59/59 [==============================] - 2s 35ms/step\n",
      "59/59 [==============================] - 3s 45ms/step\n",
      "59/59 [==============================] - 5s 78ms/step\n",
      "59/59 [==============================] - 3s 48ms/step\n",
      "59/59 [==============================] - 6s 74ms/step\n"
     ]
    },
    {
     "ename": "KeyboardInterrupt",
     "evalue": "",
     "output_type": "error",
     "traceback": [
      "\u001b[1;31m---------------------------------------------------------------------------\u001b[0m",
      "\u001b[1;31mKeyboardInterrupt\u001b[0m                         Traceback (most recent call last)",
      "Cell \u001b[1;32mIn[50], line 13\u001b[0m\n\u001b[0;32m     10\u001b[0m model\u001b[38;5;241m.\u001b[39mcompile(optimizer\u001b[38;5;241m=\u001b[39moptimizer, loss\u001b[38;5;241m=\u001b[39m\u001b[38;5;124m'\u001b[39m\u001b[38;5;124msparse_categorical_crossentropy\u001b[39m\u001b[38;5;124m'\u001b[39m, metrics\u001b[38;5;241m=\u001b[39m[\u001b[38;5;124m'\u001b[39m\u001b[38;5;124maccuracy\u001b[39m\u001b[38;5;124m'\u001b[39m])\n\u001b[0;32m     12\u001b[0m \u001b[38;5;66;03m# Train the model\u001b[39;00m\n\u001b[1;32m---> 13\u001b[0m model\u001b[38;5;241m.\u001b[39mfit(X_train_padded, y_train_encoded, epochs\u001b[38;5;241m=\u001b[39m\u001b[38;5;241m5\u001b[39m, batch_size\u001b[38;5;241m=\u001b[39m\u001b[38;5;241m32\u001b[39m, validation_split\u001b[38;5;241m=\u001b[39m\u001b[38;5;241m0.1\u001b[39m, verbose\u001b[38;5;241m=\u001b[39m\u001b[38;5;241m0\u001b[39m)\n\u001b[0;32m     15\u001b[0m \u001b[38;5;66;03m# Evaluate on the test set\u001b[39;00m\n\u001b[0;32m     16\u001b[0m y_pred_probs \u001b[38;5;241m=\u001b[39m model\u001b[38;5;241m.\u001b[39mpredict(X_test_padded)\n",
      "File \u001b[1;32m~\\Machine Learning Programming - Programs\\Project\\Sentiment-Analysis\\venv\\Lib\\site-packages\\keras\\src\\utils\\traceback_utils.py:65\u001b[0m, in \u001b[0;36mfilter_traceback.<locals>.error_handler\u001b[1;34m(*args, **kwargs)\u001b[0m\n\u001b[0;32m     63\u001b[0m filtered_tb \u001b[38;5;241m=\u001b[39m \u001b[38;5;28;01mNone\u001b[39;00m\n\u001b[0;32m     64\u001b[0m \u001b[38;5;28;01mtry\u001b[39;00m:\n\u001b[1;32m---> 65\u001b[0m     \u001b[38;5;28;01mreturn\u001b[39;00m fn(\u001b[38;5;241m*\u001b[39margs, \u001b[38;5;241m*\u001b[39m\u001b[38;5;241m*\u001b[39mkwargs)\n\u001b[0;32m     66\u001b[0m \u001b[38;5;28;01mexcept\u001b[39;00m \u001b[38;5;167;01mException\u001b[39;00m \u001b[38;5;28;01mas\u001b[39;00m e:\n\u001b[0;32m     67\u001b[0m     filtered_tb \u001b[38;5;241m=\u001b[39m _process_traceback_frames(e\u001b[38;5;241m.\u001b[39m__traceback__)\n",
      "File \u001b[1;32m~\\Machine Learning Programming - Programs\\Project\\Sentiment-Analysis\\venv\\Lib\\site-packages\\keras\\src\\engine\\training.py:1807\u001b[0m, in \u001b[0;36mModel.fit\u001b[1;34m(self, x, y, batch_size, epochs, verbose, callbacks, validation_split, validation_data, shuffle, class_weight, sample_weight, initial_epoch, steps_per_epoch, validation_steps, validation_batch_size, validation_freq, max_queue_size, workers, use_multiprocessing)\u001b[0m\n\u001b[0;32m   1799\u001b[0m \u001b[38;5;28;01mwith\u001b[39;00m tf\u001b[38;5;241m.\u001b[39mprofiler\u001b[38;5;241m.\u001b[39mexperimental\u001b[38;5;241m.\u001b[39mTrace(\n\u001b[0;32m   1800\u001b[0m     \u001b[38;5;124m\"\u001b[39m\u001b[38;5;124mtrain\u001b[39m\u001b[38;5;124m\"\u001b[39m,\n\u001b[0;32m   1801\u001b[0m     epoch_num\u001b[38;5;241m=\u001b[39mepoch,\n\u001b[1;32m   (...)\u001b[0m\n\u001b[0;32m   1804\u001b[0m     _r\u001b[38;5;241m=\u001b[39m\u001b[38;5;241m1\u001b[39m,\n\u001b[0;32m   1805\u001b[0m ):\n\u001b[0;32m   1806\u001b[0m     callbacks\u001b[38;5;241m.\u001b[39mon_train_batch_begin(step)\n\u001b[1;32m-> 1807\u001b[0m     tmp_logs \u001b[38;5;241m=\u001b[39m \u001b[38;5;28mself\u001b[39m\u001b[38;5;241m.\u001b[39mtrain_function(iterator)\n\u001b[0;32m   1808\u001b[0m     \u001b[38;5;28;01mif\u001b[39;00m data_handler\u001b[38;5;241m.\u001b[39mshould_sync:\n\u001b[0;32m   1809\u001b[0m         context\u001b[38;5;241m.\u001b[39masync_wait()\n",
      "File \u001b[1;32m~\\Machine Learning Programming - Programs\\Project\\Sentiment-Analysis\\venv\\Lib\\site-packages\\tensorflow\\python\\util\\traceback_utils.py:150\u001b[0m, in \u001b[0;36mfilter_traceback.<locals>.error_handler\u001b[1;34m(*args, **kwargs)\u001b[0m\n\u001b[0;32m    148\u001b[0m filtered_tb \u001b[38;5;241m=\u001b[39m \u001b[38;5;28;01mNone\u001b[39;00m\n\u001b[0;32m    149\u001b[0m \u001b[38;5;28;01mtry\u001b[39;00m:\n\u001b[1;32m--> 150\u001b[0m   \u001b[38;5;28;01mreturn\u001b[39;00m fn(\u001b[38;5;241m*\u001b[39margs, \u001b[38;5;241m*\u001b[39m\u001b[38;5;241m*\u001b[39mkwargs)\n\u001b[0;32m    151\u001b[0m \u001b[38;5;28;01mexcept\u001b[39;00m \u001b[38;5;167;01mException\u001b[39;00m \u001b[38;5;28;01mas\u001b[39;00m e:\n\u001b[0;32m    152\u001b[0m   filtered_tb \u001b[38;5;241m=\u001b[39m _process_traceback_frames(e\u001b[38;5;241m.\u001b[39m__traceback__)\n",
      "File \u001b[1;32m~\\Machine Learning Programming - Programs\\Project\\Sentiment-Analysis\\venv\\Lib\\site-packages\\tensorflow\\python\\eager\\polymorphic_function\\polymorphic_function.py:832\u001b[0m, in \u001b[0;36mFunction.__call__\u001b[1;34m(self, *args, **kwds)\u001b[0m\n\u001b[0;32m    829\u001b[0m compiler \u001b[38;5;241m=\u001b[39m \u001b[38;5;124m\"\u001b[39m\u001b[38;5;124mxla\u001b[39m\u001b[38;5;124m\"\u001b[39m \u001b[38;5;28;01mif\u001b[39;00m \u001b[38;5;28mself\u001b[39m\u001b[38;5;241m.\u001b[39m_jit_compile \u001b[38;5;28;01melse\u001b[39;00m \u001b[38;5;124m\"\u001b[39m\u001b[38;5;124mnonXla\u001b[39m\u001b[38;5;124m\"\u001b[39m\n\u001b[0;32m    831\u001b[0m \u001b[38;5;28;01mwith\u001b[39;00m OptionalXlaContext(\u001b[38;5;28mself\u001b[39m\u001b[38;5;241m.\u001b[39m_jit_compile):\n\u001b[1;32m--> 832\u001b[0m   result \u001b[38;5;241m=\u001b[39m \u001b[38;5;28mself\u001b[39m\u001b[38;5;241m.\u001b[39m_call(\u001b[38;5;241m*\u001b[39margs, \u001b[38;5;241m*\u001b[39m\u001b[38;5;241m*\u001b[39mkwds)\n\u001b[0;32m    834\u001b[0m new_tracing_count \u001b[38;5;241m=\u001b[39m \u001b[38;5;28mself\u001b[39m\u001b[38;5;241m.\u001b[39mexperimental_get_tracing_count()\n\u001b[0;32m    835\u001b[0m without_tracing \u001b[38;5;241m=\u001b[39m (tracing_count \u001b[38;5;241m==\u001b[39m new_tracing_count)\n",
      "File \u001b[1;32m~\\Machine Learning Programming - Programs\\Project\\Sentiment-Analysis\\venv\\Lib\\site-packages\\tensorflow\\python\\eager\\polymorphic_function\\polymorphic_function.py:868\u001b[0m, in \u001b[0;36mFunction._call\u001b[1;34m(self, *args, **kwds)\u001b[0m\n\u001b[0;32m    865\u001b[0m   \u001b[38;5;28mself\u001b[39m\u001b[38;5;241m.\u001b[39m_lock\u001b[38;5;241m.\u001b[39mrelease()\n\u001b[0;32m    866\u001b[0m   \u001b[38;5;66;03m# In this case we have created variables on the first call, so we run the\u001b[39;00m\n\u001b[0;32m    867\u001b[0m   \u001b[38;5;66;03m# defunned version which is guaranteed to never create variables.\u001b[39;00m\n\u001b[1;32m--> 868\u001b[0m   \u001b[38;5;28;01mreturn\u001b[39;00m tracing_compilation\u001b[38;5;241m.\u001b[39mcall_function(\n\u001b[0;32m    869\u001b[0m       args, kwds, \u001b[38;5;28mself\u001b[39m\u001b[38;5;241m.\u001b[39m_no_variable_creation_config\n\u001b[0;32m    870\u001b[0m   )\n\u001b[0;32m    871\u001b[0m \u001b[38;5;28;01melif\u001b[39;00m \u001b[38;5;28mself\u001b[39m\u001b[38;5;241m.\u001b[39m_variable_creation_config \u001b[38;5;129;01mis\u001b[39;00m \u001b[38;5;129;01mnot\u001b[39;00m \u001b[38;5;28;01mNone\u001b[39;00m:\n\u001b[0;32m    872\u001b[0m   \u001b[38;5;66;03m# Release the lock early so that multiple threads can perform the call\u001b[39;00m\n\u001b[0;32m    873\u001b[0m   \u001b[38;5;66;03m# in parallel.\u001b[39;00m\n\u001b[0;32m    874\u001b[0m   \u001b[38;5;28mself\u001b[39m\u001b[38;5;241m.\u001b[39m_lock\u001b[38;5;241m.\u001b[39mrelease()\n",
      "File \u001b[1;32m~\\Machine Learning Programming - Programs\\Project\\Sentiment-Analysis\\venv\\Lib\\site-packages\\tensorflow\\python\\eager\\polymorphic_function\\tracing_compilation.py:139\u001b[0m, in \u001b[0;36mcall_function\u001b[1;34m(args, kwargs, tracing_options)\u001b[0m\n\u001b[0;32m    137\u001b[0m bound_args \u001b[38;5;241m=\u001b[39m function\u001b[38;5;241m.\u001b[39mfunction_type\u001b[38;5;241m.\u001b[39mbind(\u001b[38;5;241m*\u001b[39margs, \u001b[38;5;241m*\u001b[39m\u001b[38;5;241m*\u001b[39mkwargs)\n\u001b[0;32m    138\u001b[0m flat_inputs \u001b[38;5;241m=\u001b[39m function\u001b[38;5;241m.\u001b[39mfunction_type\u001b[38;5;241m.\u001b[39munpack_inputs(bound_args)\n\u001b[1;32m--> 139\u001b[0m \u001b[38;5;28;01mreturn\u001b[39;00m function\u001b[38;5;241m.\u001b[39m_call_flat(  \u001b[38;5;66;03m# pylint: disable=protected-access\u001b[39;00m\n\u001b[0;32m    140\u001b[0m     flat_inputs, captured_inputs\u001b[38;5;241m=\u001b[39mfunction\u001b[38;5;241m.\u001b[39mcaptured_inputs\n\u001b[0;32m    141\u001b[0m )\n",
      "File \u001b[1;32m~\\Machine Learning Programming - Programs\\Project\\Sentiment-Analysis\\venv\\Lib\\site-packages\\tensorflow\\python\\eager\\polymorphic_function\\concrete_function.py:1323\u001b[0m, in \u001b[0;36mConcreteFunction._call_flat\u001b[1;34m(self, tensor_inputs, captured_inputs)\u001b[0m\n\u001b[0;32m   1319\u001b[0m possible_gradient_type \u001b[38;5;241m=\u001b[39m gradients_util\u001b[38;5;241m.\u001b[39mPossibleTapeGradientTypes(args)\n\u001b[0;32m   1320\u001b[0m \u001b[38;5;28;01mif\u001b[39;00m (possible_gradient_type \u001b[38;5;241m==\u001b[39m gradients_util\u001b[38;5;241m.\u001b[39mPOSSIBLE_GRADIENT_TYPES_NONE\n\u001b[0;32m   1321\u001b[0m     \u001b[38;5;129;01mand\u001b[39;00m executing_eagerly):\n\u001b[0;32m   1322\u001b[0m   \u001b[38;5;66;03m# No tape is watching; skip to running the function.\u001b[39;00m\n\u001b[1;32m-> 1323\u001b[0m   \u001b[38;5;28;01mreturn\u001b[39;00m \u001b[38;5;28mself\u001b[39m\u001b[38;5;241m.\u001b[39m_inference_function\u001b[38;5;241m.\u001b[39mcall_preflattened(args)\n\u001b[0;32m   1324\u001b[0m forward_backward \u001b[38;5;241m=\u001b[39m \u001b[38;5;28mself\u001b[39m\u001b[38;5;241m.\u001b[39m_select_forward_and_backward_functions(\n\u001b[0;32m   1325\u001b[0m     args,\n\u001b[0;32m   1326\u001b[0m     possible_gradient_type,\n\u001b[0;32m   1327\u001b[0m     executing_eagerly)\n\u001b[0;32m   1328\u001b[0m forward_function, args_with_tangents \u001b[38;5;241m=\u001b[39m forward_backward\u001b[38;5;241m.\u001b[39mforward()\n",
      "File \u001b[1;32m~\\Machine Learning Programming - Programs\\Project\\Sentiment-Analysis\\venv\\Lib\\site-packages\\tensorflow\\python\\eager\\polymorphic_function\\atomic_function.py:216\u001b[0m, in \u001b[0;36mAtomicFunction.call_preflattened\u001b[1;34m(self, args)\u001b[0m\n\u001b[0;32m    214\u001b[0m \u001b[38;5;28;01mdef\u001b[39;00m \u001b[38;5;21mcall_preflattened\u001b[39m(\u001b[38;5;28mself\u001b[39m, args: Sequence[core\u001b[38;5;241m.\u001b[39mTensor]) \u001b[38;5;241m-\u001b[39m\u001b[38;5;241m>\u001b[39m Any:\n\u001b[0;32m    215\u001b[0m \u001b[38;5;250m  \u001b[39m\u001b[38;5;124;03m\"\"\"Calls with flattened tensor inputs and returns the structured output.\"\"\"\u001b[39;00m\n\u001b[1;32m--> 216\u001b[0m   flat_outputs \u001b[38;5;241m=\u001b[39m \u001b[38;5;28mself\u001b[39m\u001b[38;5;241m.\u001b[39mcall_flat(\u001b[38;5;241m*\u001b[39margs)\n\u001b[0;32m    217\u001b[0m   \u001b[38;5;28;01mreturn\u001b[39;00m \u001b[38;5;28mself\u001b[39m\u001b[38;5;241m.\u001b[39mfunction_type\u001b[38;5;241m.\u001b[39mpack_output(flat_outputs)\n",
      "File \u001b[1;32m~\\Machine Learning Programming - Programs\\Project\\Sentiment-Analysis\\venv\\Lib\\site-packages\\tensorflow\\python\\eager\\polymorphic_function\\atomic_function.py:251\u001b[0m, in \u001b[0;36mAtomicFunction.call_flat\u001b[1;34m(self, *args)\u001b[0m\n\u001b[0;32m    249\u001b[0m \u001b[38;5;28;01mwith\u001b[39;00m record\u001b[38;5;241m.\u001b[39mstop_recording():\n\u001b[0;32m    250\u001b[0m   \u001b[38;5;28;01mif\u001b[39;00m \u001b[38;5;28mself\u001b[39m\u001b[38;5;241m.\u001b[39m_bound_context\u001b[38;5;241m.\u001b[39mexecuting_eagerly():\n\u001b[1;32m--> 251\u001b[0m     outputs \u001b[38;5;241m=\u001b[39m \u001b[38;5;28mself\u001b[39m\u001b[38;5;241m.\u001b[39m_bound_context\u001b[38;5;241m.\u001b[39mcall_function(\n\u001b[0;32m    252\u001b[0m         \u001b[38;5;28mself\u001b[39m\u001b[38;5;241m.\u001b[39mname,\n\u001b[0;32m    253\u001b[0m         \u001b[38;5;28mlist\u001b[39m(args),\n\u001b[0;32m    254\u001b[0m         \u001b[38;5;28mlen\u001b[39m(\u001b[38;5;28mself\u001b[39m\u001b[38;5;241m.\u001b[39mfunction_type\u001b[38;5;241m.\u001b[39mflat_outputs),\n\u001b[0;32m    255\u001b[0m     )\n\u001b[0;32m    256\u001b[0m   \u001b[38;5;28;01melse\u001b[39;00m:\n\u001b[0;32m    257\u001b[0m     outputs \u001b[38;5;241m=\u001b[39m make_call_op_in_graph(\n\u001b[0;32m    258\u001b[0m         \u001b[38;5;28mself\u001b[39m,\n\u001b[0;32m    259\u001b[0m         \u001b[38;5;28mlist\u001b[39m(args),\n\u001b[0;32m    260\u001b[0m         \u001b[38;5;28mself\u001b[39m\u001b[38;5;241m.\u001b[39m_bound_context\u001b[38;5;241m.\u001b[39mfunction_call_options\u001b[38;5;241m.\u001b[39mas_attrs(),\n\u001b[0;32m    261\u001b[0m     )\n",
      "File \u001b[1;32m~\\Machine Learning Programming - Programs\\Project\\Sentiment-Analysis\\venv\\Lib\\site-packages\\tensorflow\\python\\eager\\context.py:1486\u001b[0m, in \u001b[0;36mContext.call_function\u001b[1;34m(self, name, tensor_inputs, num_outputs)\u001b[0m\n\u001b[0;32m   1484\u001b[0m cancellation_context \u001b[38;5;241m=\u001b[39m cancellation\u001b[38;5;241m.\u001b[39mcontext()\n\u001b[0;32m   1485\u001b[0m \u001b[38;5;28;01mif\u001b[39;00m cancellation_context \u001b[38;5;129;01mis\u001b[39;00m \u001b[38;5;28;01mNone\u001b[39;00m:\n\u001b[1;32m-> 1486\u001b[0m   outputs \u001b[38;5;241m=\u001b[39m execute\u001b[38;5;241m.\u001b[39mexecute(\n\u001b[0;32m   1487\u001b[0m       name\u001b[38;5;241m.\u001b[39mdecode(\u001b[38;5;124m\"\u001b[39m\u001b[38;5;124mutf-8\u001b[39m\u001b[38;5;124m\"\u001b[39m),\n\u001b[0;32m   1488\u001b[0m       num_outputs\u001b[38;5;241m=\u001b[39mnum_outputs,\n\u001b[0;32m   1489\u001b[0m       inputs\u001b[38;5;241m=\u001b[39mtensor_inputs,\n\u001b[0;32m   1490\u001b[0m       attrs\u001b[38;5;241m=\u001b[39mattrs,\n\u001b[0;32m   1491\u001b[0m       ctx\u001b[38;5;241m=\u001b[39m\u001b[38;5;28mself\u001b[39m,\n\u001b[0;32m   1492\u001b[0m   )\n\u001b[0;32m   1493\u001b[0m \u001b[38;5;28;01melse\u001b[39;00m:\n\u001b[0;32m   1494\u001b[0m   outputs \u001b[38;5;241m=\u001b[39m execute\u001b[38;5;241m.\u001b[39mexecute_with_cancellation(\n\u001b[0;32m   1495\u001b[0m       name\u001b[38;5;241m.\u001b[39mdecode(\u001b[38;5;124m\"\u001b[39m\u001b[38;5;124mutf-8\u001b[39m\u001b[38;5;124m\"\u001b[39m),\n\u001b[0;32m   1496\u001b[0m       num_outputs\u001b[38;5;241m=\u001b[39mnum_outputs,\n\u001b[1;32m   (...)\u001b[0m\n\u001b[0;32m   1500\u001b[0m       cancellation_manager\u001b[38;5;241m=\u001b[39mcancellation_context,\n\u001b[0;32m   1501\u001b[0m   )\n",
      "File \u001b[1;32m~\\Machine Learning Programming - Programs\\Project\\Sentiment-Analysis\\venv\\Lib\\site-packages\\tensorflow\\python\\eager\\execute.py:53\u001b[0m, in \u001b[0;36mquick_execute\u001b[1;34m(op_name, num_outputs, inputs, attrs, ctx, name)\u001b[0m\n\u001b[0;32m     51\u001b[0m \u001b[38;5;28;01mtry\u001b[39;00m:\n\u001b[0;32m     52\u001b[0m   ctx\u001b[38;5;241m.\u001b[39mensure_initialized()\n\u001b[1;32m---> 53\u001b[0m   tensors \u001b[38;5;241m=\u001b[39m pywrap_tfe\u001b[38;5;241m.\u001b[39mTFE_Py_Execute(ctx\u001b[38;5;241m.\u001b[39m_handle, device_name, op_name,\n\u001b[0;32m     54\u001b[0m                                       inputs, attrs, num_outputs)\n\u001b[0;32m     55\u001b[0m \u001b[38;5;28;01mexcept\u001b[39;00m core\u001b[38;5;241m.\u001b[39m_NotOkStatusException \u001b[38;5;28;01mas\u001b[39;00m e:\n\u001b[0;32m     56\u001b[0m   \u001b[38;5;28;01mif\u001b[39;00m name \u001b[38;5;129;01mis\u001b[39;00m \u001b[38;5;129;01mnot\u001b[39;00m \u001b[38;5;28;01mNone\u001b[39;00m:\n",
      "\u001b[1;31mKeyboardInterrupt\u001b[0m: "
     ]
    }
   ],
   "source": [
    "for units in units_list:\n",
    "    for dropout in dropout_list:\n",
    "        for recurrent_dropout in recurrent_dropout_list:\n",
    "            for optimizer in optimizer_list:\n",
    "                # Build the model\n",
    "                model = Sequential()\n",
    "                model.add(Embedding(input_dim=max_words, output_dim=embedding_dim, input_length=max_len))\n",
    "                model.add(LSTM(units=units, dropout=dropout, recurrent_dropout=recurrent_dropout))\n",
    "                model.add(Dense(units=3, activation='softmax'))\n",
    "                model.compile(optimizer=optimizer, loss='sparse_categorical_crossentropy', metrics=['accuracy'])\n",
    "\n",
    "                # Train the model\n",
    "                model.fit(X_train_padded, y_train_encoded, epochs=5, batch_size=32, validation_split=0.1, verbose=0)\n",
    "\n",
    "                # Evaluate on the test set\n",
    "                y_pred_probs = model.predict(X_test_padded)\n",
    "                y_pred = y_pred_probs.argmax(axis=-1)\n",
    "                accuracy = accuracy_score(y_test_encoded, y_pred)\n",
    "\n",
    "                # Check if this set of hyperparameters gives better accuracy\n",
    "                if accuracy > best_accuracy:\n",
    "                    best_accuracy = accuracy\n",
    "                    best_params = {'units': units, 'dropout': dropout, 'recurrent_dropout': recurrent_dropout, 'optimizer': optimizer}\n",
    "                    best_model = model\n"
   ]
  },
  {
   "cell_type": "code",
   "execution_count": 69,
   "id": "55fd40b7",
   "metadata": {},
   "outputs": [
    {
     "name": "stdout",
     "output_type": "stream",
     "text": [
      "3/3 [==============================] - 0s 25ms/step\n"
     ]
    },
    {
     "name": "stderr",
     "output_type": "stream",
     "text": [
      "C:\\Users\\nihal\\AppData\\Local\\Programs\\Python\\Python311\\Lib\\site-packages\\sklearn\\metrics\\_classification.py:1471: UndefinedMetricWarning: Precision and F-score are ill-defined and being set to 0.0 in labels with no predicted samples. Use `zero_division` parameter to control this behavior.\n",
      "  _warn_prf(average, modifier, msg_start, len(result))\n",
      "C:\\Users\\nihal\\AppData\\Local\\Programs\\Python\\Python311\\Lib\\site-packages\\sklearn\\metrics\\_classification.py:1471: UndefinedMetricWarning: Precision and F-score are ill-defined and being set to 0.0 in labels with no predicted samples. Use `zero_division` parameter to control this behavior.\n",
      "  _warn_prf(average, modifier, msg_start, len(result))\n",
      "C:\\Users\\nihal\\AppData\\Local\\Programs\\Python\\Python311\\Lib\\site-packages\\sklearn\\metrics\\_classification.py:1471: UndefinedMetricWarning: Precision and F-score are ill-defined and being set to 0.0 in labels with no predicted samples. Use `zero_division` parameter to control this behavior.\n",
      "  _warn_prf(average, modifier, msg_start, len(result))\n"
     ]
    }
   ],
   "source": [
    "y_pred_probs = best_model.predict(X_test_padded)\n",
    "y_pred = y_pred_probs.argmax(axis=-1)\n",
    "acc = accuracy_score(y_test_encoded, y_pred)\n",
    "class_rep = classification_report(y_test_encoded, y_pred)"
   ]
  },
  {
   "cell_type": "code",
   "execution_count": 70,
   "id": "032b19ab",
   "metadata": {},
   "outputs": [
    {
     "name": "stdout",
     "output_type": "stream",
     "text": [
      "Best Parameters: {'units': 50, 'dropout': 0.2, 'recurrent_dropout': 0.2, 'optimizer': 'adam'}\n",
      "Test Accuracy: 0.45121951219512196\n",
      "Classification Report:\n",
      "               precision    recall  f1-score   support\n",
      "\n",
      "           0       1.00      0.07      0.14        27\n",
      "           1       0.00      0.00      0.00        20\n",
      "           2       0.44      1.00      0.61        35\n",
      "\n",
      "    accuracy                           0.45        82\n",
      "   macro avg       0.48      0.36      0.25        82\n",
      "weighted avg       0.52      0.45      0.31        82\n",
      "\n"
     ]
    }
   ],
   "source": [
    "print(\"Best Parameters:\", best_params)\n",
    "print(\"Test Accuracy:\", acc)\n",
    "print(\"Classification Report:\\n\", class_rep)"
   ]
  },
  {
   "cell_type": "code",
   "execution_count": 71,
   "id": "ba2950e5",
   "metadata": {},
   "outputs": [
    {
     "name": "stdout",
     "output_type": "stream",
     "text": [
      "Model: \"sequential_2\"\n",
      "_________________________________________________________________\n",
      " Layer (type)                Output Shape              Param #   \n",
      "=================================================================\n",
      " embedding_2 (Embedding)     (None, 100, 50)           500000    \n",
      "                                                                 \n",
      " lstm_2 (LSTM)               (None, 50)                20200     \n",
      "                                                                 \n",
      " dense_2 (Dense)             (None, 3)                 153       \n",
      "                                                                 \n",
      "=================================================================\n",
      "Total params: 520353 (1.98 MB)\n",
      "Trainable params: 520353 (1.98 MB)\n",
      "Non-trainable params: 0 (0.00 Byte)\n",
      "_________________________________________________________________\n"
     ]
    }
   ],
   "source": [
    "best_model.summary()"
   ]
  },
  {
   "cell_type": "code",
   "execution_count": 72,
   "id": "19eb42b0",
   "metadata": {},
   "outputs": [],
   "source": [
    "from sklearn.preprocessing import label_binarize\n",
    "from sklearn.metrics import roc_auc_score\n",
    "from sklearn.metrics import roc_curve, auc\n",
    "import numpy as np\n",
    "\n",
    "y_test_bin = label_binarize(y_test_encoded, classes=np.unique(y_test_encoded))\n",
    "fpr = dict()\n",
    "tpr = dict()\n",
    "roc_auc = dict()\n",
    "for i in range(len(label_encoder.classes_)):\n",
    "    fpr[i], tpr[i], _ = roc_curve(y_test_bin[:, i], y_pred_probs[:, i])\n",
    "    roc_auc[i] = auc(fpr[i], tpr[i])"
   ]
  },
  {
   "cell_type": "code",
   "execution_count": 73,
   "id": "e02614ba",
   "metadata": {},
   "outputs": [
    {
     "data": {
      "image/png": "[encoded data removed]",
      "text/plain": [
       "<Figure size 800x600 with 1 Axes>"
      ]
     },
     "metadata": {},
     "output_type": "display_data"
    }
   ],
   "source": [
    "import matplotlib.pyplot as plt\n",
    "plt.figure(figsize=(8, 6))\n",
    "colors = ['red', 'green', 'blue']  # Adjust the colors based on the number of classes\n",
    "\n",
    "for i in range(len(label_encoder.classes_)):\n",
    "    plt.plot(fpr[i], tpr[i], color=colors[i], label=f'ROC curve for {label_encoder.classes_[i]} (area = {roc_auc[i]:.2f})')\n",
    "\n",
    "plt.plot([0, 1], [0, 1], 'k--', linewidth=2)  # Diagonal line for random guessing\n",
    "plt.xlabel('False Positive Rate')\n",
    "plt.ylabel('True Positive Rate')\n",
    "plt.title('Receiver Operating Characteristic (ROC) Curve')\n",
    "plt.legend(loc=\"lower right\")\n",
    "plt.show()"
   ]
  },
  {
   "cell_type": "code",
   "execution_count": null,
   "id": "fa8368a8",
   "metadata": {},
   "outputs": [],
   "source": []
  },
  {
   "cell_type": "code",
   "execution_count": null,
   "id": "d9fc57a0",
   "metadata": {},
   "outputs": [],
   "source": []
  },
  {
   "cell_type": "code",
   "execution_count": 74,
   "id": "eacb0937",
   "metadata": {},
   "outputs": [
    {
     "name": "stdout",
     "output_type": "stream",
     "text": [
      "1/1 [==============================] - 0s 41ms/step\n",
      "Predicted Sentiment: ['positive']\n"
     ]
    }
   ],
   "source": [
    "new_data = [\"If he was to reproduce at all it would be asexually in a puddle of toxic bile, regurgitating some pure fucking homunculus of everything that is wrong with the world.\"]  # Replace this with your actual new text data\n",
    "new_data_sequences = tokenizer.texts_to_sequences(new_data)\n",
    "new_data_padded = pad_sequences(new_data_sequences, maxlen=max_len, padding='post', truncating='post')\n",
    "\n",
    "# Predict sentiment for the new data\n",
    "new_data_pred_probs = best_model.predict(new_data_padded)\n",
    "new_data_pred = new_data_pred_probs.argmax(axis=-1)\n",
    "\n",
    "# Decode predicted labels using the label encoder\n",
    "predicted_labels = label_encoder.inverse_transform(new_data_pred)\n",
    "\n",
    "print(\"Predicted Sentiment:\", predicted_labels)"
   ]
  },
  {
   "cell_type": "code",
   "execution_count": null,
   "id": "af3bce3d",
   "metadata": {},
   "outputs": [],
   "source": []
  },
  {
   "cell_type": "code",
   "execution_count": null,
   "id": "0fb4c9aa",
   "metadata": {},
   "outputs": [],
   "source": []
  },
  {
   "cell_type": "code",
   "execution_count": null,
   "id": "14192d7e",
   "metadata": {},
   "outputs": [],
   "source": []
  },
  {
   "cell_type": "code",
   "execution_count": null,
   "id": "22bb89f7",
   "metadata": {},
   "outputs": [],
   "source": []
  },
  {
   "cell_type": "code",
   "execution_count": 75,
   "id": "699c3ad8",
   "metadata": {},
   "outputs": [],
   "source": [
    "new_data_tfidf = tfidf_vectorizer.transform(preprocessed_new_data)\n"
   ]
  },
  {
   "cell_type": "code",
   "execution_count": 76,
   "id": "3d7e6413",
   "metadata": {},
   "outputs": [],
   "source": [
    "predictions = best_svc_model.predict(new_data_tfidf)\n"
   ]
  },
  {
   "cell_type": "code",
   "execution_count": 77,
   "id": "1f86e586",
   "metadata": {},
   "outputs": [
    {
     "data": {
      "text/plain": [
       "array([1, 1, 1, 1, 1, 1, 1, 1, 1, 1, 1, 1, 1])"
      ]
     },
     "execution_count": 77,
     "metadata": {},
     "output_type": "execute_result"
    }
   ],
   "source": [
    "predictions"
   ]
  },
  {
   "cell_type": "code",
   "execution_count": 78,
   "id": "ebaa8562",
   "metadata": {},
   "outputs": [],
   "source": [
    "sentiment_mapping = {0: 'negative', 1: 'neutral', 2: 'positive'}\n"
   ]
  },
  {
   "cell_type": "code",
   "execution_count": 79,
   "id": "87ca2438",
   "metadata": {},
   "outputs": [],
   "source": [
    "predicted_labels = [sentiment_mapping[prediction] for prediction in predictions]\n"
   ]
  },
  {
   "cell_type": "code",
   "execution_count": 80,
   "id": "e5ed7940",
   "metadata": {},
   "outputs": [
    {
     "data": {
      "text/plain": [
       "['neutral',\n",
       " 'neutral',\n",
       " 'neutral',\n",
       " 'neutral',\n",
       " 'neutral',\n",
       " 'neutral',\n",
       " 'neutral',\n",
       " 'neutral',\n",
       " 'neutral',\n",
       " 'neutral',\n",
       " 'neutral',\n",
       " 'neutral',\n",
       " 'neutral']"
      ]
     },
     "execution_count": 80,
     "metadata": {},
     "output_type": "execute_result"
    }
   ],
   "source": [
    "predicted_labels"
   ]
  },
  {
   "cell_type": "code",
   "execution_count": 81,
   "id": "7e627ed1",
   "metadata": {},
   "outputs": [],
   "source": [
    "from collections import Counter"
   ]
  },
  {
   "cell_type": "code",
   "execution_count": 82,
   "id": "a27a9f88",
   "metadata": {},
   "outputs": [],
   "source": [
    "label_counts = Counter(predicted_labels)\n"
   ]
  },
  {
   "cell_type": "code",
   "execution_count": 83,
   "id": "ec6d3c7b",
   "metadata": {},
   "outputs": [],
   "source": [
    "total_count = len(predicted_labels)\n",
    "average_sentiment = sum([count * index for index, count in enumerate(label_counts.values())]) / total_count\n"
   ]
  },
  {
   "cell_type": "code",
   "execution_count": 84,
   "id": "33592010",
   "metadata": {},
   "outputs": [
    {
     "name": "stdout",
     "output_type": "stream",
     "text": [
      "Label Counts: Counter({'neutral': 13})\n",
      "Average Sentiment: 0.0\n"
     ]
    }
   ],
   "source": [
    "print(\"Label Counts:\", label_counts)\n",
    "print(\"Average Sentiment:\", average_sentiment)"
   ]
  },
  {
   "cell_type": "code",
   "execution_count": null,
   "id": "b2a6f123",
   "metadata": {},
   "outputs": [],
   "source": []
  },
  {
   "cell_type": "code",
   "execution_count": null,
   "id": "1f73b359",
   "metadata": {},
   "outputs": [],
   "source": []
  },
  {
   "cell_type": "code",
   "execution_count": null,
   "id": "3770aee9",
   "metadata": {},
   "outputs": [],
   "source": []
  }
 ],
 "metadata": {
  "kernelspec": {
   "display_name": "Python 3 (ipykernel)",
   "language": "python",
   "name": "python3"
  },
  "language_info": {
   "codemirror_mode": {
    "name": "ipython",
    "version": 3
   },
   "file_extension": ".py",
   "mimetype": "text/x-python",
   "name": "python",
   "nbconvert_exporter": "python",
   "pygments_lexer": "ipython3",
   "version": "3.11.5"
  }
 },
 "nbformat": 4,
 "nbformat_minor": 5
}
