{
 "cells": [
  {
   "cell_type": "code",
   "execution_count": 1,
   "id": "e3e878b1",
   "metadata": {},
   "outputs": [],
   "source": [
    "import nltk\n",
    "from nltk.tokenize import word_tokenize\n",
    "from nltk.corpus import stopwords\n",
    "from nltk.stem import PorterStemmer, WordNetLemmatizer\n",
    "import string\n",
    "import json\n",
    "import pandas as pd\n",
    "from sklearn.feature_extraction.text import CountVectorizer, TfidfVectorizer\n",
    "from gensim.models import Word2Vec\n"
   ]
  },
  {
   "cell_type": "code",
   "execution_count": 2,
   "id": "d917a351",
   "metadata": {},
   "outputs": [],
   "source": [
    "def preprocess_text(text):\n",
    "    tokens = word_tokenize(text)\n",
    "\n",
    "    tokens = [token.lower() for token in tokens]\n",
    "\n",
    "    stop_words = set(stopwords.words('english'))\n",
    "    tokens = [token for token in tokens if token not in stop_words]\n",
    "\n",
    "    tokens = [token for token in tokens if token not in string.punctuation]\n",
    "\n",
    "    stemmer = PorterStemmer()\n",
    "    tokens = [stemmer.stem(token) for token in tokens]\n",
    "\n",
    "    lemmatizer = WordNetLemmatizer()\n",
    "    tokens = [lemmatizer.lemmatize(token) for token in tokens]\n",
    "\n",
    "    return tokens"
   ]
  },
  {
   "cell_type": "code",
   "execution_count": 3,
   "id": "c281f13b",
   "metadata": {},
   "outputs": [],
   "source": [
    "with open('../data/labelled_data.json', 'r', encoding='utf-8') as file:\n",
    "    data = json.load(file)\n"
   ]
  },
  {
   "cell_type": "code",
   "execution_count": 4,
   "id": "e77f98c8",
   "metadata": {},
   "outputs": [],
   "source": [
    "for item in data:\n",
    "    item['text_content'] = preprocess_text(item['text_content'])"
   ]
  },
  {
   "cell_type": "code",
   "execution_count": 5,
   "id": "96a996b0",
   "metadata": {},
   "outputs": [],
   "source": [
    "with open('../data/updated_json_file.json', 'w') as file:\n",
    "    json.dump(data, file, indent=2)"
   ]
  },
  {
   "cell_type": "code",
   "execution_count": null,
   "id": "3487fbc2",
   "metadata": {},
   "outputs": [],
   "source": []
  },
  {
   "cell_type": "code",
   "execution_count": null,
   "id": "c8a1ba4d",
   "metadata": {},
   "outputs": [],
   "source": []
  },
  {
   "cell_type": "code",
   "execution_count": 6,
   "id": "8350d970",
   "metadata": {},
   "outputs": [],
   "source": [
    "with open('../data/updated_json_file.json', 'r') as file:\n",
    "    data = json.load(file)"
   ]
  },
  {
   "cell_type": "code",
   "execution_count": 7,
   "id": "e4d15b73",
   "metadata": {},
   "outputs": [],
   "source": [
    "df = pd.DataFrame(data)"
   ]
  },
  {
   "cell_type": "code",
   "execution_count": 8,
   "id": "e8828bc2",
   "metadata": {},
   "outputs": [
    {
     "data": {
      "text/html": [
       "<div>\n",
       "<style scoped>\n",
       "    .dataframe tbody tr th:only-of-type {\n",
       "        vertical-align: middle;\n",
       "    }\n",
       "\n",
       "    .dataframe tbody tr th {\n",
       "        vertical-align: top;\n",
       "    }\n",
       "\n",
       "    .dataframe thead th {\n",
       "        text-align: right;\n",
       "    }\n",
       "</style>\n",
       "<table border=\"1\" class=\"dataframe\">\n",
       "  <thead>\n",
       "    <tr style=\"text-align: right;\">\n",
       "      <th></th>\n",
       "      <th>text_content</th>\n",
       "      <th>sentiment</th>\n",
       "      <th>sentiment_score</th>\n",
       "    </tr>\n",
       "  </thead>\n",
       "  <tbody>\n",
       "    <tr>\n",
       "      <th>0</th>\n",
       "      <td>[peopl, go, keep, buy, crap, alway, key, word,...</td>\n",
       "      <td>negative</td>\n",
       "      <td>-0.4588</td>\n",
       "    </tr>\n",
       "    <tr>\n",
       "      <th>1</th>\n",
       "      <td>[better, way, convinc, american, support, caus...</td>\n",
       "      <td>positive</td>\n",
       "      <td>0.2028</td>\n",
       "    </tr>\n",
       "    <tr>\n",
       "      <th>2</th>\n",
       "      <td>[context, vivek, immedi, jump, terrorist, atta...</td>\n",
       "      <td>negative</td>\n",
       "      <td>-0.8316</td>\n",
       "    </tr>\n",
       "    <tr>\n",
       "      <th>3</th>\n",
       "      <td>[know, ’, 😂, wonder, go, win, south, carolina,...</td>\n",
       "      <td>positive</td>\n",
       "      <td>0.5859</td>\n",
       "    </tr>\n",
       "    <tr>\n",
       "      <th>4</th>\n",
       "      <td>[tucker, carlson, interview, santiago, abasc, ...</td>\n",
       "      <td>negative</td>\n",
       "      <td>-0.2500</td>\n",
       "    </tr>\n",
       "    <tr>\n",
       "      <th>...</th>\n",
       "      <td>...</td>\n",
       "      <td>...</td>\n",
       "      <td>...</td>\n",
       "    </tr>\n",
       "    <tr>\n",
       "      <th>405</th>\n",
       "      <td>[messag, china, clear, era, appeas, halt, flow...</td>\n",
       "      <td>positive</td>\n",
       "      <td>0.9815</td>\n",
       "    </tr>\n",
       "    <tr>\n",
       "      <th>406</th>\n",
       "      <td>[alex, sheppard, perhap, alreadi, know, sent, ...</td>\n",
       "      <td>negative</td>\n",
       "      <td>-0.2732</td>\n",
       "    </tr>\n",
       "    <tr>\n",
       "      <th>407</th>\n",
       "      <td>[ike, amaz, manag, get, fire, anoth, step, lef...</td>\n",
       "      <td>positive</td>\n",
       "      <td>0.0516</td>\n",
       "    </tr>\n",
       "    <tr>\n",
       "      <th>408</th>\n",
       "      <td>[😑, anyon, surpris]</td>\n",
       "      <td>positive</td>\n",
       "      <td>0.2263</td>\n",
       "    </tr>\n",
       "    <tr>\n",
       "      <th>409</th>\n",
       "      <td>[gaza, health, ministri, spokesman, said, head...</td>\n",
       "      <td>positive</td>\n",
       "      <td>0.4588</td>\n",
       "    </tr>\n",
       "  </tbody>\n",
       "</table>\n",
       "<p>410 rows × 3 columns</p>\n",
       "</div>"
      ],
      "text/plain": [
       "                                          text_content sentiment  \\\n",
       "0    [peopl, go, keep, buy, crap, alway, key, word,...  negative   \n",
       "1    [better, way, convinc, american, support, caus...  positive   \n",
       "2    [context, vivek, immedi, jump, terrorist, atta...  negative   \n",
       "3    [know, ’, 😂, wonder, go, win, south, carolina,...  positive   \n",
       "4    [tucker, carlson, interview, santiago, abasc, ...  negative   \n",
       "..                                                 ...       ...   \n",
       "405  [messag, china, clear, era, appeas, halt, flow...  positive   \n",
       "406  [alex, sheppard, perhap, alreadi, know, sent, ...  negative   \n",
       "407  [ike, amaz, manag, get, fire, anoth, step, lef...  positive   \n",
       "408                                [😑, anyon, surpris]  positive   \n",
       "409  [gaza, health, ministri, spokesman, said, head...  positive   \n",
       "\n",
       "     sentiment_score  \n",
       "0            -0.4588  \n",
       "1             0.2028  \n",
       "2            -0.8316  \n",
       "3             0.5859  \n",
       "4            -0.2500  \n",
       "..               ...  \n",
       "405           0.9815  \n",
       "406          -0.2732  \n",
       "407           0.0516  \n",
       "408           0.2263  \n",
       "409           0.4588  \n",
       "\n",
       "[410 rows x 3 columns]"
      ]
     },
     "execution_count": 8,
     "metadata": {},
     "output_type": "execute_result"
    }
   ],
   "source": [
    "df"
   ]
  },
  {
   "cell_type": "code",
   "execution_count": 9,
   "id": "2c090d51",
   "metadata": {},
   "outputs": [
    {
     "data": {
      "text/html": [
       "<div>\n",
       "<style scoped>\n",
       "    .dataframe tbody tr th:only-of-type {\n",
       "        vertical-align: middle;\n",
       "    }\n",
       "\n",
       "    .dataframe tbody tr th {\n",
       "        vertical-align: top;\n",
       "    }\n",
       "\n",
       "    .dataframe thead th {\n",
       "        text-align: right;\n",
       "    }\n",
       "</style>\n",
       "<table border=\"1\" class=\"dataframe\">\n",
       "  <thead>\n",
       "    <tr style=\"text-align: right;\">\n",
       "      <th></th>\n",
       "      <th>text_content</th>\n",
       "      <th>sentiment</th>\n",
       "      <th>sentiment_score</th>\n",
       "      <th>text_content_str</th>\n",
       "    </tr>\n",
       "  </thead>\n",
       "  <tbody>\n",
       "    <tr>\n",
       "      <th>0</th>\n",
       "      <td>[peopl, go, keep, buy, crap, alway, key, word,...</td>\n",
       "      <td>negative</td>\n",
       "      <td>-0.4588</td>\n",
       "      <td>peopl go keep buy crap alway key word “ far ri...</td>\n",
       "    </tr>\n",
       "    <tr>\n",
       "      <th>1</th>\n",
       "      <td>[better, way, convinc, american, support, caus...</td>\n",
       "      <td>positive</td>\n",
       "      <td>0.2028</td>\n",
       "      <td>better way convinc american support caus distu...</td>\n",
       "    </tr>\n",
       "    <tr>\n",
       "      <th>2</th>\n",
       "      <td>[context, vivek, immedi, jump, terrorist, atta...</td>\n",
       "      <td>negative</td>\n",
       "      <td>-0.8316</td>\n",
       "      <td>context vivek immedi jump terrorist attack chr...</td>\n",
       "    </tr>\n",
       "    <tr>\n",
       "      <th>3</th>\n",
       "      <td>[know, ’, 😂, wonder, go, win, south, carolina,...</td>\n",
       "      <td>positive</td>\n",
       "      <td>0.5859</td>\n",
       "      <td>know ’ 😂 wonder go win south carolina primari 😂😂</td>\n",
       "    </tr>\n",
       "    <tr>\n",
       "      <th>4</th>\n",
       "      <td>[tucker, carlson, interview, santiago, abasc, ...</td>\n",
       "      <td>negative</td>\n",
       "      <td>-0.2500</td>\n",
       "      <td>tucker carlson interview santiago abasc vox pa...</td>\n",
       "    </tr>\n",
       "    <tr>\n",
       "      <th>...</th>\n",
       "      <td>...</td>\n",
       "      <td>...</td>\n",
       "      <td>...</td>\n",
       "      <td>...</td>\n",
       "    </tr>\n",
       "    <tr>\n",
       "      <th>405</th>\n",
       "      <td>[messag, china, clear, era, appeas, halt, flow...</td>\n",
       "      <td>positive</td>\n",
       "      <td>0.9815</td>\n",
       "      <td>messag china clear era appeas halt flow americ...</td>\n",
       "    </tr>\n",
       "    <tr>\n",
       "      <th>406</th>\n",
       "      <td>[alex, sheppard, perhap, alreadi, know, sent, ...</td>\n",
       "      <td>negative</td>\n",
       "      <td>-0.2732</td>\n",
       "      <td>alex sheppard perhap alreadi know sent jail 19...</td>\n",
       "    </tr>\n",
       "    <tr>\n",
       "      <th>407</th>\n",
       "      <td>[ike, amaz, manag, get, fire, anoth, step, lef...</td>\n",
       "      <td>positive</td>\n",
       "      <td>0.0516</td>\n",
       "      <td>ike amaz manag get fire anoth step left ’ plan...</td>\n",
       "    </tr>\n",
       "    <tr>\n",
       "      <th>408</th>\n",
       "      <td>[😑, anyon, surpris]</td>\n",
       "      <td>positive</td>\n",
       "      <td>0.2263</td>\n",
       "      <td>😑 anyon surpris</td>\n",
       "    </tr>\n",
       "    <tr>\n",
       "      <th>409</th>\n",
       "      <td>[gaza, health, ministri, spokesman, said, head...</td>\n",
       "      <td>positive</td>\n",
       "      <td>0.4588</td>\n",
       "      <td>gaza health ministri spokesman said head al-sh...</td>\n",
       "    </tr>\n",
       "  </tbody>\n",
       "</table>\n",
       "<p>410 rows × 4 columns</p>\n",
       "</div>"
      ],
      "text/plain": [
       "                                          text_content sentiment  \\\n",
       "0    [peopl, go, keep, buy, crap, alway, key, word,...  negative   \n",
       "1    [better, way, convinc, american, support, caus...  positive   \n",
       "2    [context, vivek, immedi, jump, terrorist, atta...  negative   \n",
       "3    [know, ’, 😂, wonder, go, win, south, carolina,...  positive   \n",
       "4    [tucker, carlson, interview, santiago, abasc, ...  negative   \n",
       "..                                                 ...       ...   \n",
       "405  [messag, china, clear, era, appeas, halt, flow...  positive   \n",
       "406  [alex, sheppard, perhap, alreadi, know, sent, ...  negative   \n",
       "407  [ike, amaz, manag, get, fire, anoth, step, lef...  positive   \n",
       "408                                [😑, anyon, surpris]  positive   \n",
       "409  [gaza, health, ministri, spokesman, said, head...  positive   \n",
       "\n",
       "     sentiment_score                                   text_content_str  \n",
       "0            -0.4588  peopl go keep buy crap alway key word “ far ri...  \n",
       "1             0.2028  better way convinc american support caus distu...  \n",
       "2            -0.8316  context vivek immedi jump terrorist attack chr...  \n",
       "3             0.5859   know ’ 😂 wonder go win south carolina primari 😂😂  \n",
       "4            -0.2500  tucker carlson interview santiago abasc vox pa...  \n",
       "..               ...                                                ...  \n",
       "405           0.9815  messag china clear era appeas halt flow americ...  \n",
       "406          -0.2732  alex sheppard perhap alreadi know sent jail 19...  \n",
       "407           0.0516  ike amaz manag get fire anoth step left ’ plan...  \n",
       "408           0.2263                                    😑 anyon surpris  \n",
       "409           0.4588  gaza health ministri spokesman said head al-sh...  \n",
       "\n",
       "[410 rows x 4 columns]"
      ]
     },
     "execution_count": 9,
     "metadata": {},
     "output_type": "execute_result"
    }
   ],
   "source": [
    "from sklearn.feature_extraction.text import CountVectorizer\n",
    "\n",
    "# Convert lists of tokens to space-separated strings\n",
    "df['text_content_str'] = df['text_content'].apply(lambda x: ' '.join(x))\n",
    "df\n"
   ]
  },
  {
   "cell_type": "code",
   "execution_count": 10,
   "id": "e6694fff",
   "metadata": {},
   "outputs": [
    {
     "name": "stdout",
     "output_type": "stream",
     "text": [
      "Bag-of-Words features shape: (410, 866)\n"
     ]
    }
   ],
   "source": [
    "# Bag-of-Words (BoW) representation\n",
    "bow_vectorizer = CountVectorizer()\n",
    "bow_features = bow_vectorizer.fit_transform(df['text_content_str'])\n",
    "print(\"Bag-of-Words features shape:\", bow_features.shape)"
   ]
  },
  {
   "cell_type": "code",
   "execution_count": 11,
   "id": "766d0d46",
   "metadata": {},
   "outputs": [
    {
     "name": "stdout",
     "output_type": "stream",
     "text": [
      "TF-IDF features shape: (410, 866)\n"
     ]
    }
   ],
   "source": [
    "tfidf_vectorizer = TfidfVectorizer()\n",
    "tfidf_features = tfidf_vectorizer.fit_transform(df['text_content_str'])\n",
    "print(\"TF-IDF features shape:\", tfidf_features.shape)\n"
   ]
  },
  {
   "cell_type": "code",
   "execution_count": 12,
   "id": "5737e69e",
   "metadata": {},
   "outputs": [
    {
     "name": "stdout",
     "output_type": "stream",
     "text": [
      "Word2Vec features shape: (875, 100)\n"
     ]
    }
   ],
   "source": [
    "tokenized_text = df['text_content_str'].apply(word_tokenize)\n",
    "word2vec_model = Word2Vec(sentences=tokenized_text, vector_size=100, window=5, min_count=1, workers=4)\n",
    "word2vec_features = word2vec_model.wv.vectors\n",
    "print(\"Word2Vec features shape:\", word2vec_features.shape)\n"
   ]
  },
  {
   "cell_type": "code",
   "execution_count": null,
   "id": "d571a517",
   "metadata": {},
   "outputs": [],
   "source": []
  },
  {
   "cell_type": "code",
   "execution_count": null,
   "id": "7241e687",
   "metadata": {},
   "outputs": [],
   "source": []
  },
  {
   "cell_type": "code",
   "execution_count": 13,
   "id": "da0b28d6",
   "metadata": {},
   "outputs": [],
   "source": [
    "from sklearn.model_selection import train_test_split\n",
    "from sklearn.svm import SVC\n",
    "from sklearn.metrics import accuracy_score, classification_report\n",
    "from sklearn.naive_bayes import MultinomialNB\n",
    "from sklearn.ensemble import RandomForestClassifier\n",
    "from sklearn.linear_model import LogisticRegression\n",
    "from xgboost import XGBClassifier\n",
    "from sklearn.preprocessing import LabelEncoder\n"
   ]
  },
  {
   "cell_type": "code",
   "execution_count": 14,
   "id": "27662bcf",
   "metadata": {},
   "outputs": [],
   "source": [
    "X = df['text_content_str']\n",
    "y = df['sentiment']"
   ]
  },
  {
   "cell_type": "code",
   "execution_count": 15,
   "id": "bf6dd19c",
   "metadata": {},
   "outputs": [],
   "source": [
    "X_train, X_test, y_train, y_test = train_test_split(X, y, test_size=0.2, random_state=42)\n"
   ]
  },
  {
   "cell_type": "code",
   "execution_count": 16,
   "id": "c7826365",
   "metadata": {},
   "outputs": [],
   "source": [
    "tfidf_vectorizer = TfidfVectorizer()\n",
    "X_train_tfidf = tfidf_vectorizer.fit_transform(X_train)\n",
    "X_test_tfidf = tfidf_vectorizer.transform(X_test)"
   ]
  },
  {
   "cell_type": "code",
   "execution_count": 17,
   "id": "738887d4",
   "metadata": {},
   "outputs": [],
   "source": [
    "label_encoder = LabelEncoder()\n",
    "y_train_encoded = label_encoder.fit_transform(y_train)\n",
    "y_test_encoded = label_encoder.transform(y_test)"
   ]
  },
  {
   "cell_type": "code",
   "execution_count": 18,
   "id": "dbb8c601",
   "metadata": {},
   "outputs": [
    {
     "name": "stdout",
     "output_type": "stream",
     "text": [
      "Label Mapping:\n",
      "negative --> 0\n",
      "neutral --> 1\n",
      "positive --> 2\n"
     ]
    }
   ],
   "source": [
    "label_mapping = dict(zip(label_encoder.classes_, label_encoder.transform(label_encoder.classes_)))\n",
    "print(\"Label Mapping:\")\n",
    "for label, encoded_label in label_mapping.items():\n",
    "    print(f\"{label} --> {encoded_label}\")"
   ]
  },
  {
   "cell_type": "code",
   "execution_count": 19,
   "id": "5cce8f23",
   "metadata": {},
   "outputs": [
    {
     "name": "stdout",
     "output_type": "stream",
     "text": [
      "SVC Accuracy: 1.00\n",
      "SVC Classification Report:\n",
      "               precision    recall  f1-score   support\n",
      "\n",
      "           0       1.00      1.00      1.00        27\n",
      "           1       1.00      1.00      1.00        20\n",
      "           2       1.00      1.00      1.00        35\n",
      "\n",
      "    accuracy                           1.00        82\n",
      "   macro avg       1.00      1.00      1.00        82\n",
      "weighted avg       1.00      1.00      1.00        82\n",
      "\n",
      " \n",
      "\n",
      "XGBClassifier Accuracy: 1.00\n",
      "XGBClassifier Classification Report:\n",
      "               precision    recall  f1-score   support\n",
      "\n",
      "           0       1.00      1.00      1.00        27\n",
      "           1       1.00      1.00      1.00        20\n",
      "           2       1.00      1.00      1.00        35\n",
      "\n",
      "    accuracy                           1.00        82\n",
      "   macro avg       1.00      1.00      1.00        82\n",
      "weighted avg       1.00      1.00      1.00        82\n",
      "\n",
      " \n",
      "\n",
      "LogisticRegression Accuracy: 1.00\n",
      "LogisticRegression Classification Report:\n",
      "               precision    recall  f1-score   support\n",
      "\n",
      "           0       1.00      1.00      1.00        27\n",
      "           1       1.00      1.00      1.00        20\n",
      "           2       1.00      1.00      1.00        35\n",
      "\n",
      "    accuracy                           1.00        82\n",
      "   macro avg       1.00      1.00      1.00        82\n",
      "weighted avg       1.00      1.00      1.00        82\n",
      "\n",
      " \n",
      "\n",
      "RandomForestClassifier Accuracy: 1.00\n",
      "RandomForestClassifier Classification Report:\n",
      "               precision    recall  f1-score   support\n",
      "\n",
      "           0       1.00      1.00      1.00        27\n",
      "           1       1.00      1.00      1.00        20\n",
      "           2       1.00      1.00      1.00        35\n",
      "\n",
      "    accuracy                           1.00        82\n",
      "   macro avg       1.00      1.00      1.00        82\n",
      "weighted avg       1.00      1.00      1.00        82\n",
      "\n",
      " \n",
      "\n",
      "MultinomialNB Accuracy: 1.00\n",
      "MultinomialNB Classification Report:\n",
      "               precision    recall  f1-score   support\n",
      "\n",
      "           0       1.00      1.00      1.00        27\n",
      "           1       1.00      1.00      1.00        20\n",
      "           2       1.00      1.00      1.00        35\n",
      "\n",
      "    accuracy                           1.00        82\n",
      "   macro avg       1.00      1.00      1.00        82\n",
      "weighted avg       1.00      1.00      1.00        82\n",
      "\n",
      " \n",
      "\n"
     ]
    }
   ],
   "source": [
    "models = [SVC(kernel='linear', random_state=42),XGBClassifier(),LogisticRegression(), RandomForestClassifier(),MultinomialNB()]\n",
    "accuracy=[]\n",
    "class_reports =[]\n",
    "for model in models:\n",
    "    model.fit(X_train_tfidf, y_train_encoded)\n",
    "\n",
    "    y_pred = model.predict(X_test_tfidf)\n",
    "\n",
    "    acc = accuracy_score(y_test_encoded, y_pred)\n",
    "    class_rep = classification_report(y_test_encoded, y_pred)\n",
    "    accuracy.append(acc)\n",
    "    class_reports.append(class_rep)\n",
    "\n",
    "    print(f'{model.__class__.__name__} Accuracy: {acc:.2f}')\n",
    "    print(f'{model.__class__.__name__} Classification Report:\\n {class_rep}\\n \\n')\n"
   ]
  },
  {
   "cell_type": "code",
   "execution_count": 20,
   "id": "e58fcde8",
   "metadata": {},
   "outputs": [],
   "source": [
    "from sklearn.model_selection import GridSearchCV\n",
    "# Define the parameter grid for SVC\n",
    "param_grid = {'C': [0.1, 1, 10, 100], 'gamma': [1, 0.1, 0.01, 0.001], 'kernel': ['linear']}\n",
    "\n",
    "# Create SVC model\n",
    "svc_model = SVC(random_state=42)\n",
    "\n",
    "# Apply GridSearchCV for hyperparameter tuning\n",
    "grid_search = GridSearchCV(svc_model, param_grid, cv=5, scoring='accuracy')\n",
    "grid_search.fit(X_train_tfidf, y_train_encoded)\n",
    "\n",
    "# Get the best model from the grid search\n",
    "best_svc_model = grid_search.best_estimator_"
   ]
  },
  {
   "cell_type": "code",
   "execution_count": 21,
   "id": "efc1e01b",
   "metadata": {},
   "outputs": [
    {
     "data": {
      "text/html": [
       "<style>#sk-container-id-1 {color: black;}#sk-container-id-1 pre{padding: 0;}#sk-container-id-1 div.sk-toggleable {background-color: white;}#sk-container-id-1 label.sk-toggleable__label {cursor: pointer;display: block;width: 100%;margin-bottom: 0;padding: 0.3em;box-sizing: border-box;text-align: center;}#sk-container-id-1 label.sk-toggleable__label-arrow:before {content: \"▸\";float: left;margin-right: 0.25em;color: #696969;}#sk-container-id-1 label.sk-toggleable__label-arrow:hover:before {color: black;}#sk-container-id-1 div.sk-estimator:hover label.sk-toggleable__label-arrow:before {color: black;}#sk-container-id-1 div.sk-toggleable__content {max-height: 0;max-width: 0;overflow: hidden;text-align: left;background-color: #f0f8ff;}#sk-container-id-1 div.sk-toggleable__content pre {margin: 0.2em;color: black;border-radius: 0.25em;background-color: #f0f8ff;}#sk-container-id-1 input.sk-toggleable__control:checked~div.sk-toggleable__content {max-height: 200px;max-width: 100%;overflow: auto;}#sk-container-id-1 input.sk-toggleable__control:checked~label.sk-toggleable__label-arrow:before {content: \"▾\";}#sk-container-id-1 div.sk-estimator input.sk-toggleable__control:checked~label.sk-toggleable__label {background-color: #d4ebff;}#sk-container-id-1 div.sk-label input.sk-toggleable__control:checked~label.sk-toggleable__label {background-color: #d4ebff;}#sk-container-id-1 input.sk-hidden--visually {border: 0;clip: rect(1px 1px 1px 1px);clip: rect(1px, 1px, 1px, 1px);height: 1px;margin: -1px;overflow: hidden;padding: 0;position: absolute;width: 1px;}#sk-container-id-1 div.sk-estimator {font-family: monospace;background-color: #f0f8ff;border: 1px dotted black;border-radius: 0.25em;box-sizing: border-box;margin-bottom: 0.5em;}#sk-container-id-1 div.sk-estimator:hover {background-color: #d4ebff;}#sk-container-id-1 div.sk-parallel-item::after {content: \"\";width: 100%;border-bottom: 1px solid gray;flex-grow: 1;}#sk-container-id-1 div.sk-label:hover label.sk-toggleable__label {background-color: #d4ebff;}#sk-container-id-1 div.sk-serial::before {content: \"\";position: absolute;border-left: 1px solid gray;box-sizing: border-box;top: 0;bottom: 0;left: 50%;z-index: 0;}#sk-container-id-1 div.sk-serial {display: flex;flex-direction: column;align-items: center;background-color: white;padding-right: 0.2em;padding-left: 0.2em;position: relative;}#sk-container-id-1 div.sk-item {position: relative;z-index: 1;}#sk-container-id-1 div.sk-parallel {display: flex;align-items: stretch;justify-content: center;background-color: white;position: relative;}#sk-container-id-1 div.sk-item::before, #sk-container-id-1 div.sk-parallel-item::before {content: \"\";position: absolute;border-left: 1px solid gray;box-sizing: border-box;top: 0;bottom: 0;left: 50%;z-index: -1;}#sk-container-id-1 div.sk-parallel-item {display: flex;flex-direction: column;z-index: 1;position: relative;background-color: white;}#sk-container-id-1 div.sk-parallel-item:first-child::after {align-self: flex-end;width: 50%;}#sk-container-id-1 div.sk-parallel-item:last-child::after {align-self: flex-start;width: 50%;}#sk-container-id-1 div.sk-parallel-item:only-child::after {width: 0;}#sk-container-id-1 div.sk-dashed-wrapped {border: 1px dashed gray;margin: 0 0.4em 0.5em 0.4em;box-sizing: border-box;padding-bottom: 0.4em;background-color: white;}#sk-container-id-1 div.sk-label label {font-family: monospace;font-weight: bold;display: inline-block;line-height: 1.2em;}#sk-container-id-1 div.sk-label-container {text-align: center;}#sk-container-id-1 div.sk-container {/* jupyter's `normalize.less` sets `[hidden] { display: none; }` but bootstrap.min.css set `[hidden] { display: none !important; }` so we also need the `!important` here to be able to override the default hidden behavior on the sphinx rendered scikit-learn.org. See: https://github.com/scikit-learn/scikit-learn/issues/21755 */display: inline-block !important;position: relative;}#sk-container-id-1 div.sk-text-repr-fallback {display: none;}</style><div id=\"sk-container-id-1\" class=\"sk-top-container\"><div class=\"sk-text-repr-fallback\"><pre>SVC(C=10, gamma=1, kernel=&#x27;linear&#x27;, random_state=42)</pre><b>In a Jupyter environment, please rerun this cell to show the HTML representation or trust the notebook. <br />On GitHub, the HTML representation is unable to render, please try loading this page with nbviewer.org.</b></div><div class=\"sk-container\" hidden><div class=\"sk-item\"><div class=\"sk-estimator sk-toggleable\"><input class=\"sk-toggleable__control sk-hidden--visually\" id=\"sk-estimator-id-1\" type=\"checkbox\" checked><label for=\"sk-estimator-id-1\" class=\"sk-toggleable__label sk-toggleable__label-arrow\">SVC</label><div class=\"sk-toggleable__content\"><pre>SVC(C=10, gamma=1, kernel=&#x27;linear&#x27;, random_state=42)</pre></div></div></div></div></div>"
      ],
      "text/plain": [
       "SVC(C=10, gamma=1, kernel='linear', random_state=42)"
      ]
     },
     "execution_count": 21,
     "metadata": {},
     "output_type": "execute_result"
    }
   ],
   "source": [
    "best_svc_model"
   ]
  },
  {
   "cell_type": "code",
   "execution_count": 22,
   "id": "79a90fa9",
   "metadata": {},
   "outputs": [],
   "source": [
    "best_svc_model = grid_search.best_estimator_\n"
   ]
  },
  {
   "cell_type": "code",
   "execution_count": 23,
   "id": "67540cb0",
   "metadata": {},
   "outputs": [],
   "source": [
    "y_pred = best_svc_model.predict(X_test_tfidf)\n",
    "\n",
    "# Evaluate the model\n",
    "acc = accuracy_score(y_test_encoded, y_pred)\n",
    "class_rep = classification_report(y_test_encoded, y_pred)"
   ]
  },
  {
   "cell_type": "code",
   "execution_count": 24,
   "id": "5136ea80",
   "metadata": {},
   "outputs": [
    {
     "name": "stdout",
     "output_type": "stream",
     "text": [
      "              precision    recall  f1-score   support\n",
      "\n",
      "           0       1.00      1.00      1.00        27\n",
      "           1       1.00      1.00      1.00        20\n",
      "           2       1.00      1.00      1.00        35\n",
      "\n",
      "    accuracy                           1.00        82\n",
      "   macro avg       1.00      1.00      1.00        82\n",
      "weighted avg       1.00      1.00      1.00        82\n",
      "\n"
     ]
    }
   ],
   "source": [
    "print(class_rep)"
   ]
  },
  {
   "cell_type": "code",
   "execution_count": 25,
   "id": "17bc1638",
   "metadata": {},
   "outputs": [
    {
     "data": {
      "text/plain": [
       "['../data/svc_model.joblib']"
      ]
     },
     "execution_count": 25,
     "metadata": {},
     "output_type": "execute_result"
    }
   ],
   "source": [
    "import joblib\n",
    "\n",
    "joblib.dump(svc_model, '../data/svc_model.joblib')\n"
   ]
  },
  {
   "cell_type": "code",
   "execution_count": null,
   "id": "9b0a066f",
   "metadata": {},
   "outputs": [],
   "source": []
  },
  {
   "cell_type": "code",
   "execution_count": null,
   "id": "9e941b95",
   "metadata": {},
   "outputs": [],
   "source": []
  },
  {
   "cell_type": "code",
   "execution_count": 26,
   "id": "b5f32f83",
   "metadata": {},
   "outputs": [],
   "source": [
    "preprocessed_new_data = preprocess_text(\"If he was to reproduce at all it would be asexually in a puddle of toxic bile, regurgitating some pure fucking homunculus of everything that is wrong with the world.\")"
   ]
  },
  {
   "cell_type": "code",
   "execution_count": 27,
   "id": "de1c46dc",
   "metadata": {},
   "outputs": [
    {
     "name": "stdout",
     "output_type": "stream",
     "text": [
      "WARNING:tensorflow:From E:\\Conestoga\\ML programming\\Sentiment Analysis\\venv\\Lib\\site-packages\\keras\\src\\losses.py:2976: The name tf.losses.sparse_softmax_cross_entropy is deprecated. Please use tf.compat.v1.losses.sparse_softmax_cross_entropy instead.\n",
      "\n"
     ]
    }
   ],
   "source": [
    "from tensorflow.keras.models import Sequential\n",
    "from tensorflow.keras.layers import Embedding, LSTM, Dense, GlobalMaxPooling1D\n",
    "from tensorflow.keras.preprocessing.text import Tokenizer\n",
    "from tensorflow.keras.preprocessing.sequence import pad_sequences"
   ]
  },
  {
   "cell_type": "code",
   "execution_count": 28,
   "id": "ecbdef67",
   "metadata": {},
   "outputs": [],
   "source": [
    "X_train, X_test, y_train, y_test = train_test_split(X, y, test_size=0.2, random_state=42)\n"
   ]
  },
  {
   "cell_type": "code",
   "execution_count": 29,
   "id": "4d4a9bf0",
   "metadata": {},
   "outputs": [],
   "source": [
    "max_words = 10000\n",
    "max_len = 100"
   ]
  },
  {
   "cell_type": "code",
   "execution_count": 30,
   "id": "3a93df6d",
   "metadata": {},
   "outputs": [],
   "source": [
    "tokenizer = Tokenizer(num_words=max_words)\n",
    "tokenizer.fit_on_texts(X_train)"
   ]
  },
  {
   "cell_type": "code",
   "execution_count": 31,
   "id": "b189e3c3",
   "metadata": {},
   "outputs": [],
   "source": [
    "X_train_sequences = tokenizer.texts_to_sequences(X_train)\n",
    "X_test_sequences = tokenizer.texts_to_sequences(X_test)"
   ]
  },
  {
   "cell_type": "code",
   "execution_count": 32,
   "id": "94de1c7c",
   "metadata": {},
   "outputs": [],
   "source": [
    "X_train_padded = pad_sequences(X_train_sequences, maxlen=max_len, padding='post', truncating='post')\n",
    "X_test_padded = pad_sequences(X_test_sequences, maxlen=max_len, padding='post', truncating='post')\n"
   ]
  },
  {
   "cell_type": "code",
   "execution_count": 33,
   "id": "69e232b3",
   "metadata": {},
   "outputs": [],
   "source": [
    "# Encode labels\n",
    "label_encoder = LabelEncoder()\n",
    "y_train_encoded = label_encoder.fit_transform(y_train)\n",
    "y_test_encoded = label_encoder.transform(y_test)"
   ]
  },
  {
   "cell_type": "code",
   "execution_count": 34,
   "id": "2f106aeb",
   "metadata": {},
   "outputs": [
    {
     "name": "stdout",
     "output_type": "stream",
     "text": [
      "WARNING:tensorflow:From E:\\Conestoga\\ML programming\\Sentiment Analysis\\venv\\Lib\\site-packages\\keras\\src\\backend.py:873: The name tf.get_default_graph is deprecated. Please use tf.compat.v1.get_default_graph instead.\n",
      "\n"
     ]
    }
   ],
   "source": [
    "embedding_dim = 50\n",
    "\n",
    "model = Sequential()\n",
    "model.add(Embedding(input_dim=max_words, output_dim=embedding_dim, input_length=max_len))\n",
    "model.add(LSTM(units=100, dropout=0.2, recurrent_dropout=0.2))\n",
    "model.add(Dense(units=3, activation='softmax'))"
   ]
  },
  {
   "cell_type": "code",
   "execution_count": 35,
   "id": "90178fff",
   "metadata": {},
   "outputs": [
    {
     "name": "stdout",
     "output_type": "stream",
     "text": [
      "WARNING:tensorflow:From E:\\Conestoga\\ML programming\\Sentiment Analysis\\venv\\Lib\\site-packages\\keras\\src\\optimizers\\__init__.py:309: The name tf.train.Optimizer is deprecated. Please use tf.compat.v1.train.Optimizer instead.\n",
      "\n"
     ]
    }
   ],
   "source": [
    "model.compile(optimizer='adam', loss='sparse_categorical_crossentropy', metrics=['accuracy'])\n"
   ]
  },
  {
   "cell_type": "code",
   "execution_count": 36,
   "id": "6731408b",
   "metadata": {},
   "outputs": [
    {
     "name": "stdout",
     "output_type": "stream",
     "text": [
      "Epoch 1/5\n",
      "WARNING:tensorflow:From E:\\Conestoga\\ML programming\\Sentiment Analysis\\venv\\Lib\\site-packages\\keras\\src\\utils\\tf_utils.py:492: The name tf.ragged.RaggedTensorValue is deprecated. Please use tf.compat.v1.ragged.RaggedTensorValue instead.\n",
      "\n",
      "WARNING:tensorflow:From E:\\Conestoga\\ML programming\\Sentiment Analysis\\venv\\Lib\\site-packages\\keras\\src\\engine\\base_layer_utils.py:384: The name tf.executing_eagerly_outside_functions is deprecated. Please use tf.compat.v1.executing_eagerly_outside_functions instead.\n",
      "\n",
      "10/10 [==============================] - 4s 93ms/step - loss: 1.0704 - accuracy: 0.5017 - val_loss: 1.0219 - val_accuracy: 0.5152\n",
      "Epoch 2/5\n",
      "10/10 [==============================] - 1s 59ms/step - loss: 1.0454 - accuracy: 0.5017 - val_loss: 1.0257 - val_accuracy: 0.5152\n",
      "Epoch 3/5\n",
      "10/10 [==============================] - 1s 55ms/step - loss: 1.0367 - accuracy: 0.5017 - val_loss: 1.0303 - val_accuracy: 0.5152\n",
      "Epoch 4/5\n",
      "10/10 [==============================] - 1s 59ms/step - loss: 1.0233 - accuracy: 0.5051 - val_loss: 1.0156 - val_accuracy: 0.5455\n",
      "Epoch 5/5\n",
      "10/10 [==============================] - 1s 55ms/step - loss: 1.0087 - accuracy: 0.5254 - val_loss: 1.0135 - val_accuracy: 0.5455\n",
      "3/3 [==============================] - 0s 13ms/step\n"
     ]
    },
    {
     "name": "stderr",
     "output_type": "stream",
     "text": [
      "E:\\Conestoga\\ML programming\\Sentiment Analysis\\venv\\Lib\\site-packages\\sklearn\\metrics\\_classification.py:1471: UndefinedMetricWarning: Precision and F-score are ill-defined and being set to 0.0 in labels with no predicted samples. Use `zero_division` parameter to control this behavior.\n",
      "  _warn_prf(average, modifier, msg_start, len(result))\n",
      "E:\\Conestoga\\ML programming\\Sentiment Analysis\\venv\\Lib\\site-packages\\sklearn\\metrics\\_classification.py:1471: UndefinedMetricWarning: Precision and F-score are ill-defined and being set to 0.0 in labels with no predicted samples. Use `zero_division` parameter to control this behavior.\n",
      "  _warn_prf(average, modifier, msg_start, len(result))\n",
      "E:\\Conestoga\\ML programming\\Sentiment Analysis\\venv\\Lib\\site-packages\\sklearn\\metrics\\_classification.py:1471: UndefinedMetricWarning: Precision and F-score are ill-defined and being set to 0.0 in labels with no predicted samples. Use `zero_division` parameter to control this behavior.\n",
      "  _warn_prf(average, modifier, msg_start, len(result))\n"
     ]
    }
   ],
   "source": [
    "epochs = 5\n",
    "batch_size = 32\n",
    "\n",
    "model.fit(X_train_padded, y_train_encoded, epochs=epochs, batch_size=batch_size, validation_split=0.1)\n",
    "\n",
    "# Evaluate the model on the test set\n",
    "y_pred_probs  = model.predict(X_test_padded)\n",
    "y_pred = y_pred_probs.argmax(axis=-1)\n",
    "acc = accuracy_score(y_test_encoded, y_pred)\n",
    "class_rep = classification_report(y_test_encoded, y_pred)"
   ]
  },
  {
   "cell_type": "code",
   "execution_count": 37,
   "id": "61b18121",
   "metadata": {},
   "outputs": [
    {
     "data": {
      "text/plain": [
       "0.45121951219512196"
      ]
     },
     "execution_count": 37,
     "metadata": {},
     "output_type": "execute_result"
    }
   ],
   "source": [
    "acc "
   ]
  },
  {
   "cell_type": "code",
   "execution_count": 41,
   "id": "2dca72a4",
   "metadata": {},
   "outputs": [],
   "source": [
    "# Define hyperparameters to experiment with\n",
    "units_list = [50, 100, 150]\n",
    "dropout_list = [0.2, 0.3, 0.4]\n",
    "recurrent_dropout_list = [0.2, 0.3, 0.4]\n",
    "optimizer_list = ['adam', 'rmsprop']"
   ]
  },
  {
   "cell_type": "code",
   "execution_count": 42,
   "id": "a90c6c9b",
   "metadata": {},
   "outputs": [],
   "source": [
    "best_accuracy = 0\n",
    "best_params = {}"
   ]
  },
  {
   "cell_type": "code",
   "execution_count": 43,
   "id": "93cbe8a2",
   "metadata": {},
   "outputs": [
    {
     "name": "stdout",
     "output_type": "stream",
     "text": [
      "3/3 [==============================] - 0s 7ms/step\n",
      "3/3 [==============================] - 0s 6ms/step\n",
      "3/3 [==============================] - 0s 7ms/step\n",
      "WARNING:tensorflow:5 out of the last 13 calls to <function Model.make_predict_function.<locals>.predict_function at 0x0000018C03B3BD80> triggered tf.function retracing. Tracing is expensive and the excessive number of tracings could be due to (1) creating @tf.function repeatedly in a loop, (2) passing tensors with different shapes, (3) passing Python objects instead of tensors. For (1), please define your @tf.function outside of the loop. For (2), @tf.function has reduce_retracing=True option that can avoid unnecessary retracing. For (3), please refer to https://www.tensorflow.org/guide/function#controlling_retracing and https://www.tensorflow.org/api_docs/python/tf/function for  more details.\n",
      "3/3 [==============================] - 0s 7ms/step\n",
      "WARNING:tensorflow:5 out of the last 13 calls to <function Model.make_predict_function.<locals>.predict_function at 0x0000018C03C47880> triggered tf.function retracing. Tracing is expensive and the excessive number of tracings could be due to (1) creating @tf.function repeatedly in a loop, (2) passing tensors with different shapes, (3) passing Python objects instead of tensors. For (1), please define your @tf.function outside of the loop. For (2), @tf.function has reduce_retracing=True option that can avoid unnecessary retracing. For (3), please refer to https://www.tensorflow.org/guide/function#controlling_retracing and https://www.tensorflow.org/api_docs/python/tf/function for  more details.\n",
      "3/3 [==============================] - 0s 6ms/step\n",
      "3/3 [==============================] - 0s 7ms/step\n",
      "3/3 [==============================] - 0s 6ms/step\n",
      "3/3 [==============================] - 1s 21ms/step\n",
      "3/3 [==============================] - 0s 26ms/step\n",
      "3/3 [==============================] - 0s 19ms/step\n",
      "3/3 [==============================] - 0s 11ms/step\n",
      "3/3 [==============================] - 0s 12ms/step\n",
      "3/3 [==============================] - 0s 11ms/step\n",
      "3/3 [==============================] - 0s 26ms/step\n",
      "3/3 [==============================] - 0s 25ms/step\n",
      "3/3 [==============================] - 0s 22ms/step\n",
      "3/3 [==============================] - 0s 17ms/step\n",
      "3/3 [==============================] - 0s 16ms/step\n",
      "3/3 [==============================] - 0s 45ms/step\n",
      "3/3 [==============================] - 0s 35ms/step\n",
      "3/3 [==============================] - 0s 37ms/step\n",
      "3/3 [==============================] - 0s 34ms/step\n",
      "3/3 [==============================] - 0s 52ms/step\n",
      "3/3 [==============================] - 0s 48ms/step\n",
      "3/3 [==============================] - 0s 46ms/step\n",
      "3/3 [==============================] - 0s 44ms/step\n",
      "3/3 [==============================] - 0s 49ms/step\n",
      "3/3 [==============================] - 0s 56ms/step\n",
      "3/3 [==============================] - 0s 50ms/step\n",
      "3/3 [==============================] - 0s 48ms/step\n",
      "3/3 [==============================] - 0s 47ms/step\n",
      "3/3 [==============================] - 0s 45ms/step\n",
      "3/3 [==============================] - 0s 59ms/step\n",
      "3/3 [==============================] - 0s 55ms/step\n",
      "3/3 [==============================] - 0s 53ms/step\n",
      "3/3 [==============================] - 0s 52ms/step\n",
      "3/3 [==============================] - 0s 76ms/step\n",
      "3/3 [==============================] - 1s 79ms/step\n",
      "3/3 [==============================] - 1s 84ms/step\n",
      "3/3 [==============================] - 0s 80ms/step\n",
      "3/3 [==============================] - 0s 78ms/step\n",
      "3/3 [==============================] - 0s 76ms/step\n",
      "3/3 [==============================] - 0s 93ms/step\n",
      "3/3 [==============================] - 0s 92ms/step\n",
      "3/3 [==============================] - 0s 86ms/step\n",
      "3/3 [==============================] - 0s 85ms/step\n",
      "3/3 [==============================] - 0s 82ms/step\n",
      "3/3 [==============================] - 0s 88ms/step\n",
      "3/3 [==============================] - 1s 92ms/step\n",
      "3/3 [==============================] - 1s 93ms/step\n",
      "3/3 [==============================] - 0s 87ms/step\n",
      "3/3 [==============================] - 0s 82ms/step\n",
      "3/3 [==============================] - 1s 92ms/step\n",
      "3/3 [==============================] - 0s 90ms/step\n"
     ]
    }
   ],
   "source": [
    "for units in units_list:\n",
    "    for dropout in dropout_list:\n",
    "        for recurrent_dropout in recurrent_dropout_list:\n",
    "            for optimizer in optimizer_list:\n",
    "                # Build the model\n",
    "                model = Sequential()\n",
    "                model.add(Embedding(input_dim=max_words, output_dim=embedding_dim, input_length=max_len))\n",
    "                model.add(LSTM(units=units, dropout=dropout, recurrent_dropout=recurrent_dropout))\n",
    "                model.add(Dense(units=3, activation='softmax'))\n",
    "                model.compile(optimizer=optimizer, loss='sparse_categorical_crossentropy', metrics=['accuracy'])\n",
    "\n",
    "                # Train the model\n",
    "                model.fit(X_train_padded, y_train_encoded, epochs=5, batch_size=32, validation_split=0.1, verbose=0)\n",
    "\n",
    "                # Evaluate on the test set\n",
    "                y_pred_probs = model.predict(X_test_padded)\n",
    "                y_pred = y_pred_probs.argmax(axis=-1)\n",
    "                accuracy = accuracy_score(y_test_encoded, y_pred)\n",
    "\n",
    "                # Check if this set of hyperparameters gives better accuracy\n",
    "                if accuracy > best_accuracy:\n",
    "                    best_accuracy = accuracy\n",
    "                    best_params = {'units': units, 'dropout': dropout, 'recurrent_dropout': recurrent_dropout, 'optimizer': optimizer}\n",
    "                    best_model = model\n"
   ]
  },
  {
   "cell_type": "code",
   "execution_count": 44,
   "id": "55fd40b7",
   "metadata": {},
   "outputs": [
    {
     "name": "stdout",
     "output_type": "stream",
     "text": [
      "3/3 [==============================] - 0s 45ms/step\n"
     ]
    },
    {
     "name": "stderr",
     "output_type": "stream",
     "text": [
      "E:\\Conestoga\\ML programming\\Sentiment Analysis\\venv\\Lib\\site-packages\\sklearn\\metrics\\_classification.py:1471: UndefinedMetricWarning: Precision and F-score are ill-defined and being set to 0.0 in labels with no predicted samples. Use `zero_division` parameter to control this behavior.\n",
      "  _warn_prf(average, modifier, msg_start, len(result))\n",
      "E:\\Conestoga\\ML programming\\Sentiment Analysis\\venv\\Lib\\site-packages\\sklearn\\metrics\\_classification.py:1471: UndefinedMetricWarning: Precision and F-score are ill-defined and being set to 0.0 in labels with no predicted samples. Use `zero_division` parameter to control this behavior.\n",
      "  _warn_prf(average, modifier, msg_start, len(result))\n",
      "E:\\Conestoga\\ML programming\\Sentiment Analysis\\venv\\Lib\\site-packages\\sklearn\\metrics\\_classification.py:1471: UndefinedMetricWarning: Precision and F-score are ill-defined and being set to 0.0 in labels with no predicted samples. Use `zero_division` parameter to control this behavior.\n",
      "  _warn_prf(average, modifier, msg_start, len(result))\n"
     ]
    }
   ],
   "source": [
    "y_pred_probs = best_model.predict(X_test_padded)\n",
    "y_pred = y_pred_probs.argmax(axis=-1)\n",
    "acc = accuracy_score(y_test_encoded, y_pred)\n",
    "class_rep = classification_report(y_test_encoded, y_pred)"
   ]
  },
  {
   "cell_type": "code",
   "execution_count": 45,
   "id": "032b19ab",
   "metadata": {},
   "outputs": [
    {
     "name": "stdout",
     "output_type": "stream",
     "text": [
      "Best Parameters: {'units': 50, 'dropout': 0.2, 'recurrent_dropout': 0.2, 'optimizer': 'adam'}\n",
      "Test Accuracy: 0.45121951219512196\n",
      "Classification Report:\n",
      "               precision    recall  f1-score   support\n",
      "\n",
      "           0       1.00      0.07      0.14        27\n",
      "           1       0.00      0.00      0.00        20\n",
      "           2       0.44      1.00      0.61        35\n",
      "\n",
      "    accuracy                           0.45        82\n",
      "   macro avg       0.48      0.36      0.25        82\n",
      "weighted avg       0.52      0.45      0.31        82\n",
      "\n"
     ]
    }
   ],
   "source": [
    "print(\"Best Parameters:\", best_params)\n",
    "print(\"Test Accuracy:\", acc)\n",
    "print(\"Classification Report:\\n\", class_rep)"
   ]
  },
  {
   "cell_type": "code",
   "execution_count": 48,
   "id": "ba2950e5",
   "metadata": {},
   "outputs": [
    {
     "name": "stdout",
     "output_type": "stream",
     "text": [
      "Model: \"sequential_2\"\n",
      "_________________________________________________________________\n",
      " Layer (type)                Output Shape              Param #   \n",
      "=================================================================\n",
      " embedding_1 (Embedding)     (None, 100, 50)           500000    \n",
      "                                                                 \n",
      " lstm_1 (LSTM)               (None, 50)                20200     \n",
      "                                                                 \n",
      " dense_1 (Dense)             (None, 3)                 153       \n",
      "                                                                 \n",
      "=================================================================\n",
      "Total params: 520353 (1.98 MB)\n",
      "Trainable params: 520353 (1.98 MB)\n",
      "Non-trainable params: 0 (0.00 Byte)\n",
      "_________________________________________________________________\n"
     ]
    }
   ],
   "source": [
    "best_model.summary()"
   ]
  },
  {
   "cell_type": "code",
   "execution_count": 53,
   "id": "19eb42b0",
   "metadata": {},
   "outputs": [],
   "source": [
    "from sklearn.preprocessing import label_binarize\n",
    "from sklearn.metrics import roc_auc_score\n",
    "from sklearn.metrics import roc_curve, auc\n",
    "\n",
    "y_test_bin = label_binarize(y_test_encoded, classes=np.unique(y_test_encoded))\n",
    "fpr = dict()\n",
    "tpr = dict()\n",
    "roc_auc = dict()\n",
    "for i in range(len(label_encoder.classes_)):\n",
    "    fpr[i], tpr[i], _ = roc_curve(y_test_bin[:, i], y_pred_probs[:, i])\n",
    "    roc_auc[i] = auc(fpr[i], tpr[i])"
   ]
  },
  {
   "cell_type": "code",
   "execution_count": 55,
   "id": "e02614ba",
   "metadata": {},
   "outputs": [
    {
     "data": {
      "image/png": "[encoded data removed]",
      "text/plain": [
       "<Figure size 800x600 with 1 Axes>"
      ]
     },
     "metadata": {},
     "output_type": "display_data"
    }
   ],
   "source": [
    "import matplotlib.pyplot as plt\n",
    "plt.figure(figsize=(8, 6))\n",
    "colors = ['red', 'green', 'blue']  # Adjust the colors based on the number of classes\n",
    "\n",
    "for i in range(len(label_encoder.classes_)):\n",
    "    plt.plot(fpr[i], tpr[i], color=colors[i], label=f'ROC curve for {label_encoder.classes_[i]} (area = {roc_auc[i]:.2f})')\n",
    "\n",
    "plt.plot([0, 1], [0, 1], 'k--', linewidth=2)  # Diagonal line for random guessing\n",
    "plt.xlabel('False Positive Rate')\n",
    "plt.ylabel('True Positive Rate')\n",
    "plt.title('Receiver Operating Characteristic (ROC) Curve')\n",
    "plt.legend(loc=\"lower right\")\n",
    "plt.show()"
   ]
  },
  {
   "cell_type": "code",
   "execution_count": null,
   "id": "fa8368a8",
   "metadata": {},
   "outputs": [],
   "source": []
  },
  {
   "cell_type": "code",
   "execution_count": null,
   "id": "d9fc57a0",
   "metadata": {},
   "outputs": [],
   "source": []
  },
  {
   "cell_type": "code",
   "execution_count": 49,
   "id": "eacb0937",
   "metadata": {},
   "outputs": [
    {
     "name": "stdout",
     "output_type": "stream",
     "text": [
      "1/1 [==============================] - 0s 23ms/step\n",
      "Predicted Sentiment: ['positive']\n"
     ]
    }
   ],
   "source": [
    "new_data = [\"If he was to reproduce at all it would be asexually in a puddle of toxic bile, regurgitating some pure fucking homunculus of everything that is wrong with the world.\"]  # Replace this with your actual new text data\n",
    "new_data_sequences = tokenizer.texts_to_sequences(new_data)\n",
    "new_data_padded = pad_sequences(new_data_sequences, maxlen=max_len, padding='post', truncating='post')\n",
    "\n",
    "# Predict sentiment for the new data\n",
    "new_data_pred_probs = best_model.predict(new_data_padded)\n",
    "new_data_pred = new_data_pred_probs.argmax(axis=-1)\n",
    "\n",
    "# Decode predicted labels using the label encoder\n",
    "predicted_labels = label_encoder.inverse_transform(new_data_pred)\n",
    "\n",
    "print(\"Predicted Sentiment:\", predicted_labels)"
   ]
  },
  {
   "cell_type": "code",
   "execution_count": null,
   "id": "af3bce3d",
   "metadata": {},
   "outputs": [],
   "source": []
  },
  {
   "cell_type": "code",
   "execution_count": null,
   "id": "0fb4c9aa",
   "metadata": {},
   "outputs": [],
   "source": []
  },
  {
   "cell_type": "code",
   "execution_count": null,
   "id": "14192d7e",
   "metadata": {},
   "outputs": [],
   "source": []
  },
  {
   "cell_type": "code",
   "execution_count": null,
   "id": "22bb89f7",
   "metadata": {},
   "outputs": [],
   "source": []
  },
  {
   "cell_type": "code",
   "execution_count": null,
   "id": "699c3ad8",
   "metadata": {},
   "outputs": [],
   "source": [
    "new_data_tfidf = tfidf_vectorizer.transform(preprocessed_new_data)\n"
   ]
  },
  {
   "cell_type": "code",
   "execution_count": null,
   "id": "3d7e6413",
   "metadata": {},
   "outputs": [],
   "source": [
    "predictions = best_svc_model.predict(new_data_tfidf)\n"
   ]
  },
  {
   "cell_type": "code",
   "execution_count": null,
   "id": "1f86e586",
   "metadata": {},
   "outputs": [],
   "source": [
    "predictions"
   ]
  },
  {
   "cell_type": "code",
   "execution_count": null,
   "id": "ebaa8562",
   "metadata": {},
   "outputs": [],
   "source": [
    "sentiment_mapping = {0: 'negative', 1: 'neutral', 2: 'positive'}\n"
   ]
  },
  {
   "cell_type": "code",
   "execution_count": null,
   "id": "87ca2438",
   "metadata": {},
   "outputs": [],
   "source": [
    "predicted_labels = [sentiment_mapping[prediction] for prediction in predictions]\n"
   ]
  },
  {
   "cell_type": "code",
   "execution_count": null,
   "id": "e5ed7940",
   "metadata": {},
   "outputs": [],
   "source": [
    "predicted_labels"
   ]
  },
  {
   "cell_type": "code",
   "execution_count": null,
   "id": "7e627ed1",
   "metadata": {},
   "outputs": [],
   "source": [
    "from collections import Counter"
   ]
  },
  {
   "cell_type": "code",
   "execution_count": null,
   "id": "a27a9f88",
   "metadata": {},
   "outputs": [],
   "source": [
    "label_counts = Counter(predicted_labels)\n"
   ]
  },
  {
   "cell_type": "code",
   "execution_count": null,
   "id": "ec6d3c7b",
   "metadata": {},
   "outputs": [],
   "source": [
    "total_count = len(predicted_labels)\n",
    "average_sentiment = sum([count * index for index, count in enumerate(label_counts.values())]) / total_count\n"
   ]
  },
  {
   "cell_type": "code",
   "execution_count": null,
   "id": "33592010",
   "metadata": {},
   "outputs": [],
   "source": [
    "print(\"Label Counts:\", label_counts)\n",
    "print(\"Average Sentiment:\", average_sentiment)"
   ]
  },
  {
   "cell_type": "code",
   "execution_count": null,
   "id": "b2a6f123",
   "metadata": {},
   "outputs": [],
   "source": []
  },
  {
   "cell_type": "code",
   "execution_count": null,
   "id": "1f73b359",
   "metadata": {},
   "outputs": [],
   "source": []
  }
 ],
 "metadata": {
  "kernelspec": {
   "display_name": "Python 3 (ipykernel)",
   "language": "python",
   "name": "python3"
  },
  "language_info": {
   "codemirror_mode": {
    "name": "ipython",
    "version": 3
   },
   "file_extension": ".py",
   "mimetype": "text/x-python",
   "name": "python",
   "nbconvert_exporter": "python",
   "pygments_lexer": "ipython3",
   "version": "3.11.6"
  }
 },
 "nbformat": 4,
 "nbformat_minor": 5
}
